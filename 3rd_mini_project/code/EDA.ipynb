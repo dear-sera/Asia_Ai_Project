{
  "nbformat": 4,
  "nbformat_minor": 0,
  "metadata": {
    "colab": {
      "name": "따릉이_EDA.ipynb의 사본",
      "provenance": [],
      "collapsed_sections": [],
      "include_colab_link": true
    },
    "kernelspec": {
      "name": "python3",
      "display_name": "Python 3"
    },
    "language_info": {
      "name": "python"
    },
    "accelerator": "GPU"
  },
  "cells": [
    {
      "cell_type": "markdown",
      "metadata": {
        "id": "view-in-github",
        "colab_type": "text"
      },
      "source": [
        "<a href=\"https://colab.research.google.com/github/sera0911/asia_ai_project/blob/main/3rd_mini_project/code/EDA.ipynb\" target=\"_parent\"><img src=\"https://colab.research.google.com/assets/colab-badge.svg\" alt=\"Open In Colab\"/></a>"
      ]
    },
    {
      "cell_type": "markdown",
      "metadata": {
        "id": "bSxc4HQNSv3c"
      },
      "source": [
        "\n",
        "**기초 셋팅 : 그래프 한글 폰트 & 오류 문구 제거**"
      ]
    },
    {
      "cell_type": "code",
      "metadata": {
        "colab": {
          "base_uri": "https://localhost:8080/"
        },
        "id": "dTkmDKAiSsqe",
        "outputId": "27fe3ac3-7b77-4aef-8023-ee5aebebd1ab"
      },
      "source": [
        "import numpy as np\n",
        "\n",
        "# %matplotlib inline\n",
        "import matplotlib as mpl\n",
        "import matplotlib.pyplot as plt\n",
        "import seaborn as sns\n",
        "import pandas as pd\n",
        "\n",
        "sns.set_style(\"darkgrid\")\n",
        "\n",
        "mpl.rc('axes', labelsize=14)\n",
        "mpl.rc('xtick', labelsize=12)\n",
        "mpl.rc('ytick', labelsize=12)\n",
        "mpl.rcParams['axes.unicode_minus'] = False\n",
        "mpl.rcParams.update({\"axes.grid\" : True})\n",
        "\n",
        "plt.rcParams[\"figure.figsize\"] = (15,6)\n",
        "plt.rc(\"font\", size=18)  # 그림의 폰트 크기를 18로 고정\n",
        "\n",
        "np.random.seed(42)\n",
        " \n",
        "!apt -qq -y install fonts-nanum\n",
        "fontpath = '/usr/share/fonts/truetype/nanum/NanumBarunGothic.ttf'\n",
        "plt.rc('font', family='NanumBarunGothic') \n",
        "#mpl.font_manager._rebuild()\n",
        "\n",
        "import warnings\n",
        "warnings.filterwarnings(action=\"ignore\", message=\"^internal gelsd\")"
      ],
      "execution_count": null,
      "outputs": [
        {
          "output_type": "stream",
          "text": [
            "fonts-nanum is already the newest version (20170925-1).\n",
            "0 upgraded, 0 newly installed, 0 to remove and 39 not upgraded.\n"
          ],
          "name": "stdout"
        }
      ]
    },
    {
      "cell_type": "markdown",
      "metadata": {
        "id": "1Wh-DobqS9ug"
      },
      "source": [
        "**데이터 설명**\n",
        "\n",
        "1. 날씨 & 미세먼지 데이터 통합\n",
        "2. 따릉이 대여소 & 따릉이 대여 데이터 통합\n",
        "\n",
        "따릉이 데이터는 25개의 자치구, 시간을 0-6, 7-12, 13-18, 19-24로 4가지로 나누어 해석\n",
        "\n",
        "\n",
        "1 날씨(온도, 풍량)에 맞춰서 따릉이 이용량 예측\n",
        "\n",
        "2 대여소 이용 건수에 따라 군집화 및 미래 예측\n",
        "\n",
        "\n",
        "\n"
      ]
    },
    {
      "cell_type": "markdown",
      "metadata": {
        "id": "kB_BhX1kTApC"
      },
      "source": [
        "**EDA**"
      ]
    },
    {
      "cell_type": "code",
      "metadata": {
        "id": "Y7VM8XlFS_AE"
      },
      "source": [
        "# 파일 불러오기\n",
        "ride_count = pd.read_csv('/content/drive/MyDrive/projects/3차-따릉이/data/ride_count.csv')\n",
        "weather = pd.read_csv('/content/drive/MyDrive/projects/3차-따릉이/data/weather.csv')\n",
        "data = pd.read_csv('/content/drive/MyDrive/projects/3차-따릉이/data/data_raw.csv')\n",
        "d = pd.read_csv('/content/drive/MyDrive/projects/3차-따릉이/data/data.csv')"
      ],
      "execution_count": null,
      "outputs": []
    },
    {
      "cell_type": "code",
      "metadata": {
        "colab": {
          "base_uri": "https://localhost:8080/"
        },
        "id": "ILYOs8A1lhUU",
        "outputId": "8be5f170-8391-4350-8c17-6646a41553b5"
      },
      "source": [
        "data['자치구'].unique().shape"
      ],
      "execution_count": null,
      "outputs": [
        {
          "output_type": "execute_result",
          "data": {
            "text/plain": [
              "(25,)"
            ]
          },
          "metadata": {
            "tags": []
          },
          "execution_count": 21
        }
      ]
    },
    {
      "cell_type": "code",
      "metadata": {
        "colab": {
          "base_uri": "https://localhost:8080/",
          "height": 402
        },
        "id": "ung4WSFIidjb",
        "outputId": "a8431ea0-5ec5-47ef-a3bb-cd28c9d8f062"
      },
      "source": [
        "data"
      ],
      "execution_count": null,
      "outputs": [
        {
          "output_type": "execute_result",
          "data": {
            "text/html": [
              "<div>\n",
              "<style scoped>\n",
              "    .dataframe tbody tr th:only-of-type {\n",
              "        vertical-align: middle;\n",
              "    }\n",
              "\n",
              "    .dataframe tbody tr th {\n",
              "        vertical-align: top;\n",
              "    }\n",
              "\n",
              "    .dataframe thead th {\n",
              "        text-align: right;\n",
              "    }\n",
              "</style>\n",
              "<table border=\"1\" class=\"dataframe\">\n",
              "  <thead>\n",
              "    <tr style=\"text-align: right;\">\n",
              "      <th></th>\n",
              "      <th>자치구</th>\n",
              "      <th>일자</th>\n",
              "      <th>시각</th>\n",
              "      <th>기온</th>\n",
              "      <th>풍속</th>\n",
              "      <th>강수량</th>\n",
              "      <th>미세먼지농도</th>\n",
              "      <th>이용건수</th>\n",
              "    </tr>\n",
              "  </thead>\n",
              "  <tbody>\n",
              "    <tr>\n",
              "      <th>0</th>\n",
              "      <td>강남구</td>\n",
              "      <td>2020-01-01</td>\n",
              "      <td>0</td>\n",
              "      <td>-5.1</td>\n",
              "      <td>1.0</td>\n",
              "      <td>0.0</td>\n",
              "      <td>27.0</td>\n",
              "      <td>24</td>\n",
              "    </tr>\n",
              "    <tr>\n",
              "      <th>1</th>\n",
              "      <td>강남구</td>\n",
              "      <td>2020-01-01</td>\n",
              "      <td>1</td>\n",
              "      <td>-5.0</td>\n",
              "      <td>0.8</td>\n",
              "      <td>0.0</td>\n",
              "      <td>20.0</td>\n",
              "      <td>29</td>\n",
              "    </tr>\n",
              "    <tr>\n",
              "      <th>2</th>\n",
              "      <td>강남구</td>\n",
              "      <td>2020-01-01</td>\n",
              "      <td>2</td>\n",
              "      <td>-4.8</td>\n",
              "      <td>1.3</td>\n",
              "      <td>0.0</td>\n",
              "      <td>21.0</td>\n",
              "      <td>28</td>\n",
              "    </tr>\n",
              "    <tr>\n",
              "      <th>3</th>\n",
              "      <td>강남구</td>\n",
              "      <td>2020-01-01</td>\n",
              "      <td>3</td>\n",
              "      <td>-4.9</td>\n",
              "      <td>0.7</td>\n",
              "      <td>0.0</td>\n",
              "      <td>31.0</td>\n",
              "      <td>21</td>\n",
              "    </tr>\n",
              "    <tr>\n",
              "      <th>4</th>\n",
              "      <td>강남구</td>\n",
              "      <td>2020-01-01</td>\n",
              "      <td>4</td>\n",
              "      <td>-4.7</td>\n",
              "      <td>1.4</td>\n",
              "      <td>0.0</td>\n",
              "      <td>30.0</td>\n",
              "      <td>14</td>\n",
              "    </tr>\n",
              "    <tr>\n",
              "      <th>...</th>\n",
              "      <td>...</td>\n",
              "      <td>...</td>\n",
              "      <td>...</td>\n",
              "      <td>...</td>\n",
              "      <td>...</td>\n",
              "      <td>...</td>\n",
              "      <td>...</td>\n",
              "      <td>...</td>\n",
              "    </tr>\n",
              "    <tr>\n",
              "      <th>216253</th>\n",
              "      <td>동작구</td>\n",
              "      <td>2020-12-31</td>\n",
              "      <td>19</td>\n",
              "      <td>-5.4</td>\n",
              "      <td>1.7</td>\n",
              "      <td>0.0</td>\n",
              "      <td>44.0</td>\n",
              "      <td>33</td>\n",
              "    </tr>\n",
              "    <tr>\n",
              "      <th>216254</th>\n",
              "      <td>동작구</td>\n",
              "      <td>2020-12-31</td>\n",
              "      <td>20</td>\n",
              "      <td>-6.5</td>\n",
              "      <td>1.5</td>\n",
              "      <td>0.0</td>\n",
              "      <td>35.0</td>\n",
              "      <td>30</td>\n",
              "    </tr>\n",
              "    <tr>\n",
              "      <th>216255</th>\n",
              "      <td>동작구</td>\n",
              "      <td>2020-12-31</td>\n",
              "      <td>21</td>\n",
              "      <td>-6.2</td>\n",
              "      <td>1.4</td>\n",
              "      <td>0.0</td>\n",
              "      <td>42.0</td>\n",
              "      <td>24</td>\n",
              "    </tr>\n",
              "    <tr>\n",
              "      <th>216256</th>\n",
              "      <td>동작구</td>\n",
              "      <td>2020-12-31</td>\n",
              "      <td>22</td>\n",
              "      <td>-5.6</td>\n",
              "      <td>1.6</td>\n",
              "      <td>0.0</td>\n",
              "      <td>42.0</td>\n",
              "      <td>7</td>\n",
              "    </tr>\n",
              "    <tr>\n",
              "      <th>216257</th>\n",
              "      <td>동작구</td>\n",
              "      <td>2020-12-31</td>\n",
              "      <td>23</td>\n",
              "      <td>-6.3</td>\n",
              "      <td>1.4</td>\n",
              "      <td>0.0</td>\n",
              "      <td>43.0</td>\n",
              "      <td>2</td>\n",
              "    </tr>\n",
              "  </tbody>\n",
              "</table>\n",
              "<p>216258 rows × 8 columns</p>\n",
              "</div>"
            ],
            "text/plain": [
              "        자치구          일자  시각   기온   풍속  강수량  미세먼지농도  이용건수\n",
              "0       강남구  2020-01-01   0 -5.1  1.0  0.0    27.0    24\n",
              "1       강남구  2020-01-01   1 -5.0  0.8  0.0    20.0    29\n",
              "2       강남구  2020-01-01   2 -4.8  1.3  0.0    21.0    28\n",
              "3       강남구  2020-01-01   3 -4.9  0.7  0.0    31.0    21\n",
              "4       강남구  2020-01-01   4 -4.7  1.4  0.0    30.0    14\n",
              "...     ...         ...  ..  ...  ...  ...     ...   ...\n",
              "216253  동작구  2020-12-31  19 -5.4  1.7  0.0    44.0    33\n",
              "216254  동작구  2020-12-31  20 -6.5  1.5  0.0    35.0    30\n",
              "216255  동작구  2020-12-31  21 -6.2  1.4  0.0    42.0    24\n",
              "216256  동작구  2020-12-31  22 -5.6  1.6  0.0    42.0     7\n",
              "216257  동작구  2020-12-31  23 -6.3  1.4  0.0    43.0     2\n",
              "\n",
              "[216258 rows x 8 columns]"
            ]
          },
          "metadata": {
            "tags": []
          },
          "execution_count": 22
        }
      ]
    },
    {
      "cell_type": "code",
      "metadata": {
        "colab": {
          "base_uri": "https://localhost:8080/"
        },
        "id": "mH6kpne6VkHe",
        "outputId": "8d3f7ed4-fa23-43ae-ff1e-806d912c81e6"
      },
      "source": [
        "data.info()  #컬럼 8개 데이터 198970개"
      ],
      "execution_count": null,
      "outputs": [
        {
          "output_type": "stream",
          "text": [
            "<class 'pandas.core.frame.DataFrame'>\n",
            "RangeIndex: 216258 entries, 0 to 216257\n",
            "Data columns (total 8 columns):\n",
            " #   Column  Non-Null Count   Dtype  \n",
            "---  ------  --------------   -----  \n",
            " 0   자치구     216258 non-null  object \n",
            " 1   일자      216258 non-null  object \n",
            " 2   시각      216258 non-null  int64  \n",
            " 3   기온      216258 non-null  float64\n",
            " 4   풍속      216258 non-null  float64\n",
            " 5   강수량     216258 non-null  float64\n",
            " 6   미세먼지농도  216258 non-null  float64\n",
            " 7   이용건수    216258 non-null  int64  \n",
            "dtypes: float64(4), int64(2), object(2)\n",
            "memory usage: 13.2+ MB\n"
          ],
          "name": "stdout"
        }
      ]
    },
    {
      "cell_type": "markdown",
      "metadata": {
        "id": "EkUPIfEAX_bF"
      },
      "source": [
        "자치구별 이용건수 파악"
      ]
    },
    {
      "cell_type": "code",
      "metadata": {
        "colab": {
          "base_uri": "https://localhost:8080/"
        },
        "id": "xmniUNOQZzL6",
        "outputId": "46e39052-104c-4eca-f268-0b81f271ef24"
      },
      "source": [
        "data['자치구'] = data['자치구'].apply(lambda x: x.rstrip('구') if len(x) != 2 else x).sort_values()\n",
        "place = data['이용건수'].groupby(data['자치구'])\n",
        "place = place.sum()\n",
        "place = pd.DataFrame(place).reset_index().sort_values(by=['이용건수'], axis=0, ascending=False)\n",
        "\n",
        "print(place)"
      ],
      "execution_count": null,
      "outputs": [
        {
          "output_type": "stream",
          "text": [
            "    자치구     이용건수\n",
            "3    강서  1931607\n",
            "19  영등포  1888253\n",
            "17   송파  1740978\n",
            "12   마포  1471226\n",
            "8    노원  1252161\n",
            "5    광진  1142316\n",
            "15   성동  1081177\n",
            "18   양천  1023888\n",
            "6    구로   905876\n",
            "14   서초   905074\n",
            "1    강동   862998\n",
            "22   종로   836463\n",
            "10  동대문   826526\n",
            "4    관악   795793\n",
            "0    강남   767334\n",
            "16   성북   734574\n",
            "21   은평   673835\n",
            "24   중랑   660231\n",
            "13  서대문   618817\n",
            "11   동작   591782\n",
            "20   용산   513760\n",
            "23   중구   507315\n",
            "9    도봉   468275\n",
            "2    강북   453917\n",
            "7    금천   399291\n"
          ],
          "name": "stdout"
        }
      ]
    },
    {
      "cell_type": "code",
      "metadata": {
        "colab": {
          "base_uri": "https://localhost:8080/"
        },
        "id": "98HgMKK8kWcm",
        "outputId": "2eaed6ca-e776-43ae-8a16-706cd6e6f897"
      },
      "source": [
        "!sudo apt-get install -y fonts-nanum\n",
        "!sudo fc-cache -fv\n",
        "!rm ~/.cache/matplotlib -rf"
      ],
      "execution_count": null,
      "outputs": [
        {
          "output_type": "stream",
          "text": [
            "Reading package lists... Done\n",
            "Building dependency tree       \n",
            "Reading state information... Done\n",
            "fonts-nanum is already the newest version (20170925-1).\n",
            "0 upgraded, 0 newly installed, 0 to remove and 39 not upgraded.\n",
            "/usr/share/fonts: caching, new cache contents: 0 fonts, 1 dirs\n",
            "/usr/share/fonts/truetype: caching, new cache contents: 0 fonts, 3 dirs\n",
            "/usr/share/fonts/truetype/humor-sans: caching, new cache contents: 1 fonts, 0 dirs\n",
            "/usr/share/fonts/truetype/liberation: caching, new cache contents: 16 fonts, 0 dirs\n",
            "/usr/share/fonts/truetype/nanum: caching, new cache contents: 10 fonts, 0 dirs\n",
            "/usr/local/share/fonts: caching, new cache contents: 0 fonts, 0 dirs\n",
            "/root/.local/share/fonts: skipping, no such directory\n",
            "/root/.fonts: skipping, no such directory\n",
            "/var/cache/fontconfig: cleaning cache directory\n",
            "/root/.cache/fontconfig: not cleaning non-existent cache directory\n",
            "/root/.fontconfig: not cleaning non-existent cache directory\n",
            "fc-cache: succeeded\n"
          ],
          "name": "stdout"
        }
      ]
    },
    {
      "cell_type": "code",
      "metadata": {
        "id": "ZmM5V-uVkhQ4"
      },
      "source": [
        "import matplotlib.pyplot as plt\n",
        "\n",
        "plt.rc('font', family='NanumBarunGothic')"
      ],
      "execution_count": null,
      "outputs": []
    },
    {
      "cell_type": "code",
      "metadata": {
        "colab": {
          "base_uri": "https://localhost:8080/",
          "height": 418
        },
        "id": "ELL1zOPViywl",
        "outputId": "070d6264-a636-4a68-c136-5a5d60adf462"
      },
      "source": [
        "ax = plt.subplots() \n",
        "ax = sns.barplot(x = place['자치구'], y=place['이용건수'], palette = 'crest').set_title('자치구별 이용건수 파악')"
      ],
      "execution_count": null,
      "outputs": [
        {
          "output_type": "display_data",
          "data": {
            "image/png": "[encoded data removed]",
            "text/plain": [
              "<Figure size 1080x432 with 1 Axes>"
            ]
          },
          "metadata": {
            "tags": []
          }
        }
      ]
    },
    {
      "cell_type": "markdown",
      "metadata": {
        "id": "EecK-3vhYDeU"
      },
      "source": [
        "시간대별 이용건수 파악"
      ]
    },
    {
      "cell_type": "code",
      "metadata": {
        "colab": {
          "base_uri": "https://localhost:8080/"
        },
        "id": "QVR5oZGgYNPJ",
        "outputId": "1a7c0f16-d0c8-48e9-b00b-dd19910ce209"
      },
      "source": [
        "time = data['이용건수'].groupby(data['시각'])\n",
        "time = time.sum()\n",
        "\n",
        "time = pd.DataFrame(time).reset_index()\n",
        "print(time)"
      ],
      "execution_count": null,
      "outputs": [
        {
          "output_type": "stream",
          "text": [
            "    시각     이용건수\n",
            "0    0   643010\n",
            "1    1   490435\n",
            "2    2   335975\n",
            "3    3   229294\n",
            "4    4   156005\n",
            "5    5   162835\n",
            "6    6   312892\n",
            "7    7   748150\n",
            "8    8  1225987\n",
            "9    9   779686\n",
            "10  10   679182\n",
            "11  11   822067\n",
            "12  12   968813\n",
            "13  13  1057480\n",
            "14  14  1163827\n",
            "15  15  1293862\n",
            "16  16  1476518\n",
            "17  17  1893578\n",
            "18  18  2208161\n",
            "19  19  1656753\n",
            "20  20  1468970\n",
            "21  21  1357422\n",
            "22  22  1127325\n",
            "23  23   795240\n"
          ],
          "name": "stdout"
        }
      ]
    },
    {
      "cell_type": "code",
      "metadata": {
        "colab": {
          "base_uri": "https://localhost:8080/",
          "height": 418
        },
        "id": "38AeMEZFrzLj",
        "outputId": "40264608-c5e1-49b4-ac6e-37082dc3cf49"
      },
      "source": [
        "ax = plt.subplots() \n",
        "sns.lineplot(x = time['시각'], y=time['이용건수'], color='#0000001f', linestyle='--').set_title('시간대별 이용건수 파악')\n",
        "ax = sns.pointplot(x = time['시각'], y=time['이용건수'], palette = 'crest').set_title('시간대별 이용건수 파악')"
      ],
      "execution_count": null,
      "outputs": [
        {
          "output_type": "display_data",
          "data": {
            "image/png": "[encoded data removed]",
            "text/plain": [
              "<Figure size 1080x432 with 1 Axes>"
            ]
          },
          "metadata": {
            "tags": []
          }
        }
      ]
    },
    {
      "cell_type": "markdown",
      "metadata": {
        "id": "8YG7mRWfYQNp"
      },
      "source": [
        "온도에 따른 이용건수 파악"
      ]
    },
    {
      "cell_type": "code",
      "metadata": {
        "colab": {
          "base_uri": "https://localhost:8080/",
          "height": 402
        },
        "id": "elxbizHRYNhm",
        "outputId": "334fd664-dd7e-4b6d-d21b-8c615f8af9f7"
      },
      "source": [
        "temp = pd.cut(data['기온'], bins=[-np.inf,-10, -5, 0, 5, 10, 15, 20, 25, 30, np.inf], labels=['-10도 이상 영하', '-9~-5도 영하', '-4~0도', '0~5도', '6~10도',\n",
        "                                                                                          '11~15도', '16~20도', '21~25도', '26~30도', '30도 이상'], right=False)\n",
        "temp = pd.DataFrame(temp)\n",
        "temp['이용건수'] = data['이용건수']\n",
        "temp"
      ],
      "execution_count": null,
      "outputs": [
        {
          "output_type": "execute_result",
          "data": {
            "text/html": [
              "<div>\n",
              "<style scoped>\n",
              "    .dataframe tbody tr th:only-of-type {\n",
              "        vertical-align: middle;\n",
              "    }\n",
              "\n",
              "    .dataframe tbody tr th {\n",
              "        vertical-align: top;\n",
              "    }\n",
              "\n",
              "    .dataframe thead th {\n",
              "        text-align: right;\n",
              "    }\n",
              "</style>\n",
              "<table border=\"1\" class=\"dataframe\">\n",
              "  <thead>\n",
              "    <tr style=\"text-align: right;\">\n",
              "      <th></th>\n",
              "      <th>기온</th>\n",
              "      <th>이용건수</th>\n",
              "    </tr>\n",
              "  </thead>\n",
              "  <tbody>\n",
              "    <tr>\n",
              "      <th>0</th>\n",
              "      <td>-9~-5도 영하</td>\n",
              "      <td>24</td>\n",
              "    </tr>\n",
              "    <tr>\n",
              "      <th>1</th>\n",
              "      <td>-4~0도</td>\n",
              "      <td>29</td>\n",
              "    </tr>\n",
              "    <tr>\n",
              "      <th>2</th>\n",
              "      <td>-4~0도</td>\n",
              "      <td>28</td>\n",
              "    </tr>\n",
              "    <tr>\n",
              "      <th>3</th>\n",
              "      <td>-4~0도</td>\n",
              "      <td>21</td>\n",
              "    </tr>\n",
              "    <tr>\n",
              "      <th>4</th>\n",
              "      <td>-4~0도</td>\n",
              "      <td>14</td>\n",
              "    </tr>\n",
              "    <tr>\n",
              "      <th>...</th>\n",
              "      <td>...</td>\n",
              "      <td>...</td>\n",
              "    </tr>\n",
              "    <tr>\n",
              "      <th>216253</th>\n",
              "      <td>-9~-5도 영하</td>\n",
              "      <td>33</td>\n",
              "    </tr>\n",
              "    <tr>\n",
              "      <th>216254</th>\n",
              "      <td>-9~-5도 영하</td>\n",
              "      <td>30</td>\n",
              "    </tr>\n",
              "    <tr>\n",
              "      <th>216255</th>\n",
              "      <td>-9~-5도 영하</td>\n",
              "      <td>24</td>\n",
              "    </tr>\n",
              "    <tr>\n",
              "      <th>216256</th>\n",
              "      <td>-9~-5도 영하</td>\n",
              "      <td>7</td>\n",
              "    </tr>\n",
              "    <tr>\n",
              "      <th>216257</th>\n",
              "      <td>-9~-5도 영하</td>\n",
              "      <td>2</td>\n",
              "    </tr>\n",
              "  </tbody>\n",
              "</table>\n",
              "<p>216258 rows × 2 columns</p>\n",
              "</div>"
            ],
            "text/plain": [
              "               기온  이용건수\n",
              "0       -9~-5도 영하    24\n",
              "1           -4~0도    29\n",
              "2           -4~0도    28\n",
              "3           -4~0도    21\n",
              "4           -4~0도    14\n",
              "...           ...   ...\n",
              "216253  -9~-5도 영하    33\n",
              "216254  -9~-5도 영하    30\n",
              "216255  -9~-5도 영하    24\n",
              "216256  -9~-5도 영하     7\n",
              "216257  -9~-5도 영하     2\n",
              "\n",
              "[216258 rows x 2 columns]"
            ]
          },
          "metadata": {
            "tags": []
          },
          "execution_count": 30
        }
      ]
    },
    {
      "cell_type": "code",
      "metadata": {
        "colab": {
          "base_uri": "https://localhost:8080/"
        },
        "id": "Me-itkkUvpko",
        "outputId": "a8394701-b2a1-4248-f099-99160636c55b"
      },
      "source": [
        "temp = temp['이용건수'].groupby(temp['기온'])\n",
        "temp = temp.sum()\n",
        "\n",
        "temp = pd.DataFrame(temp).reset_index()\n",
        "print(temp)"
      ],
      "execution_count": null,
      "outputs": [
        {
          "output_type": "stream",
          "text": [
            "           기온     이용건수\n",
            "0  -10도 이상 영하    30342\n",
            "1   -9~-5도 영하   170800\n",
            "2       -4~0도   581486\n",
            "3        0~5도  1695420\n",
            "4       6~10도  2484349\n",
            "5      11~15도  3305984\n",
            "6      16~20도  4212160\n",
            "7      21~25도  5623065\n",
            "8      26~30도  4248260\n",
            "9      30도 이상   701601\n"
          ],
          "name": "stdout"
        }
      ]
    },
    {
      "cell_type": "code",
      "metadata": {
        "colab": {
          "base_uri": "https://localhost:8080/",
          "height": 418
        },
        "id": "IYfs7271yH5Z",
        "outputId": "a8202257-684e-4bbd-922b-46bc8f84852e"
      },
      "source": [
        "ax = plt.subplots() \n",
        "sns.lineplot(x = temp['기온'], y=temp['이용건수'], color='#0000001f', linestyle='--').set_title('시간대별 이용건수 파악')\n",
        "ax = sns.pointplot(x = temp['기온'], y=temp['이용건수'], palette = 'YlOrBr').set_title('온도별 이용건수 파악')"
      ],
      "execution_count": null,
      "outputs": [
        {
          "output_type": "display_data",
          "data": {
            "image/png": "[encoded data removed]",
            "text/plain": [
              "<Figure size 1080x432 with 1 Axes>"
            ]
          },
          "metadata": {
            "tags": []
          }
        }
      ]
    },
    {
      "cell_type": "markdown",
      "metadata": {
        "id": "-7gyWb3bYPQh"
      },
      "source": [
        "강수량에 따른 이용건수 파악"
      ]
    },
    {
      "cell_type": "code",
      "metadata": {
        "colab": {
          "base_uri": "https://localhost:8080/",
          "height": 402
        },
        "id": "z2cyRB4PYN9D",
        "outputId": "ec3b9e78-1b41-47e5-9cc0-8b239e5696db"
      },
      "source": [
        "rain = pd.cut(data['강수량'], bins=[-np.inf, 0, 10, np.inf], labels=['0','0 ~ 10','10 이상'], right=True)\n",
        "rain = pd.DataFrame(rain)\n",
        "rain['이용건수'] = data['이용건수']\n",
        "rain"
      ],
      "execution_count": null,
      "outputs": [
        {
          "output_type": "execute_result",
          "data": {
            "text/html": [
              "<div>\n",
              "<style scoped>\n",
              "    .dataframe tbody tr th:only-of-type {\n",
              "        vertical-align: middle;\n",
              "    }\n",
              "\n",
              "    .dataframe tbody tr th {\n",
              "        vertical-align: top;\n",
              "    }\n",
              "\n",
              "    .dataframe thead th {\n",
              "        text-align: right;\n",
              "    }\n",
              "</style>\n",
              "<table border=\"1\" class=\"dataframe\">\n",
              "  <thead>\n",
              "    <tr style=\"text-align: right;\">\n",
              "      <th></th>\n",
              "      <th>강수량</th>\n",
              "      <th>이용건수</th>\n",
              "    </tr>\n",
              "  </thead>\n",
              "  <tbody>\n",
              "    <tr>\n",
              "      <th>0</th>\n",
              "      <td>0</td>\n",
              "      <td>24</td>\n",
              "    </tr>\n",
              "    <tr>\n",
              "      <th>1</th>\n",
              "      <td>0</td>\n",
              "      <td>29</td>\n",
              "    </tr>\n",
              "    <tr>\n",
              "      <th>2</th>\n",
              "      <td>0</td>\n",
              "      <td>28</td>\n",
              "    </tr>\n",
              "    <tr>\n",
              "      <th>3</th>\n",
              "      <td>0</td>\n",
              "      <td>21</td>\n",
              "    </tr>\n",
              "    <tr>\n",
              "      <th>4</th>\n",
              "      <td>0</td>\n",
              "      <td>14</td>\n",
              "    </tr>\n",
              "    <tr>\n",
              "      <th>...</th>\n",
              "      <td>...</td>\n",
              "      <td>...</td>\n",
              "    </tr>\n",
              "    <tr>\n",
              "      <th>216253</th>\n",
              "      <td>0</td>\n",
              "      <td>33</td>\n",
              "    </tr>\n",
              "    <tr>\n",
              "      <th>216254</th>\n",
              "      <td>0</td>\n",
              "      <td>30</td>\n",
              "    </tr>\n",
              "    <tr>\n",
              "      <th>216255</th>\n",
              "      <td>0</td>\n",
              "      <td>24</td>\n",
              "    </tr>\n",
              "    <tr>\n",
              "      <th>216256</th>\n",
              "      <td>0</td>\n",
              "      <td>7</td>\n",
              "    </tr>\n",
              "    <tr>\n",
              "      <th>216257</th>\n",
              "      <td>0</td>\n",
              "      <td>2</td>\n",
              "    </tr>\n",
              "  </tbody>\n",
              "</table>\n",
              "<p>216258 rows × 2 columns</p>\n",
              "</div>"
            ],
            "text/plain": [
              "       강수량  이용건수\n",
              "0        0    24\n",
              "1        0    29\n",
              "2        0    28\n",
              "3        0    21\n",
              "4        0    14\n",
              "...     ..   ...\n",
              "216253   0    33\n",
              "216254   0    30\n",
              "216255   0    24\n",
              "216256   0     7\n",
              "216257   0     2\n",
              "\n",
              "[216258 rows x 2 columns]"
            ]
          },
          "metadata": {
            "tags": []
          },
          "execution_count": 33
        }
      ]
    },
    {
      "cell_type": "code",
      "metadata": {
        "colab": {
          "base_uri": "https://localhost:8080/"
        },
        "id": "GqSk4uYW0PJU",
        "outputId": "25444e8c-f254-4bd4-f763-568ec71f3ad2"
      },
      "source": [
        "rain = rain['이용건수'].groupby(rain['강수량'])\n",
        "rain = rain.sum()\n",
        "\n",
        "rain = pd.DataFrame(rain).reset_index()\n",
        "print(rain)"
      ],
      "execution_count": null,
      "outputs": [
        {
          "output_type": "stream",
          "text": [
            "      강수량      이용건수\n",
            "0       0  22829298\n",
            "1  0 ~ 10    216064\n",
            "2   10 이상      8105\n"
          ],
          "name": "stdout"
        }
      ]
    },
    {
      "cell_type": "code",
      "metadata": {
        "colab": {
          "base_uri": "https://localhost:8080/",
          "height": 418
        },
        "id": "CNfUJ9Jxz-n7",
        "outputId": "a55ce035-af38-48de-a924-19c6de2e67fd"
      },
      "source": [
        "ax = sns.barplot(x = rain['강수량'], y=rain['이용건수'], palette = 'crest')\n",
        "ax.set_title('강수량별 이용건수 파악')\n",
        "for p in ax.patches:\n",
        "    ax.annotate(format(p.get_height(), '.0f'),\n",
        "                (p.get_x() + p.get_width() / 2.,p.get_height()),\n",
        "                ha = 'center',\n",
        "                va = 'center', xytext = (0, 8),\n",
        "                textcoords = 'offset points',\n",
        "                size=13,\n",
        "                )"
      ],
      "execution_count": null,
      "outputs": [
        {
          "output_type": "display_data",
          "data": {
            "image/png": "[encoded data removed]",
            "text/plain": [
              "<Figure size 1080x432 with 1 Axes>"
            ]
          },
          "metadata": {
            "tags": []
          }
        }
      ]
    },
    {
      "cell_type": "markdown",
      "metadata": {
        "id": "Sc5XAJYrBMTf"
      },
      "source": [
        "풍속에 따른 이용건수 파악"
      ]
    },
    {
      "cell_type": "code",
      "metadata": {
        "colab": {
          "base_uri": "https://localhost:8080/",
          "height": 402
        },
        "id": "9tpXxnA8DGVn",
        "outputId": "eaf51470-5c0f-43ce-a9d3-a438c157319e"
      },
      "source": [
        "wind = pd.cut(data['풍속'], bins=[0, 1, 3, 6, 9, np.inf], labels=['고요한 상태','미풍', '연풍', '화풍', '강풍'], right=False)\n",
        "wind = pd.DataFrame(wind)\n",
        "wind['이용건수'] = data['이용건수']\n",
        "wind"
      ],
      "execution_count": null,
      "outputs": [
        {
          "output_type": "execute_result",
          "data": {
            "text/html": [
              "<div>\n",
              "<style scoped>\n",
              "    .dataframe tbody tr th:only-of-type {\n",
              "        vertical-align: middle;\n",
              "    }\n",
              "\n",
              "    .dataframe tbody tr th {\n",
              "        vertical-align: top;\n",
              "    }\n",
              "\n",
              "    .dataframe thead th {\n",
              "        text-align: right;\n",
              "    }\n",
              "</style>\n",
              "<table border=\"1\" class=\"dataframe\">\n",
              "  <thead>\n",
              "    <tr style=\"text-align: right;\">\n",
              "      <th></th>\n",
              "      <th>풍속</th>\n",
              "      <th>이용건수</th>\n",
              "    </tr>\n",
              "  </thead>\n",
              "  <tbody>\n",
              "    <tr>\n",
              "      <th>0</th>\n",
              "      <td>미풍</td>\n",
              "      <td>24</td>\n",
              "    </tr>\n",
              "    <tr>\n",
              "      <th>1</th>\n",
              "      <td>고요한 상태</td>\n",
              "      <td>29</td>\n",
              "    </tr>\n",
              "    <tr>\n",
              "      <th>2</th>\n",
              "      <td>미풍</td>\n",
              "      <td>28</td>\n",
              "    </tr>\n",
              "    <tr>\n",
              "      <th>3</th>\n",
              "      <td>고요한 상태</td>\n",
              "      <td>21</td>\n",
              "    </tr>\n",
              "    <tr>\n",
              "      <th>4</th>\n",
              "      <td>미풍</td>\n",
              "      <td>14</td>\n",
              "    </tr>\n",
              "    <tr>\n",
              "      <th>...</th>\n",
              "      <td>...</td>\n",
              "      <td>...</td>\n",
              "    </tr>\n",
              "    <tr>\n",
              "      <th>216253</th>\n",
              "      <td>미풍</td>\n",
              "      <td>33</td>\n",
              "    </tr>\n",
              "    <tr>\n",
              "      <th>216254</th>\n",
              "      <td>미풍</td>\n",
              "      <td>30</td>\n",
              "    </tr>\n",
              "    <tr>\n",
              "      <th>216255</th>\n",
              "      <td>미풍</td>\n",
              "      <td>24</td>\n",
              "    </tr>\n",
              "    <tr>\n",
              "      <th>216256</th>\n",
              "      <td>미풍</td>\n",
              "      <td>7</td>\n",
              "    </tr>\n",
              "    <tr>\n",
              "      <th>216257</th>\n",
              "      <td>미풍</td>\n",
              "      <td>2</td>\n",
              "    </tr>\n",
              "  </tbody>\n",
              "</table>\n",
              "<p>216258 rows × 2 columns</p>\n",
              "</div>"
            ],
            "text/plain": [
              "            풍속  이용건수\n",
              "0           미풍    24\n",
              "1       고요한 상태    29\n",
              "2           미풍    28\n",
              "3       고요한 상태    21\n",
              "4           미풍    14\n",
              "...        ...   ...\n",
              "216253      미풍    33\n",
              "216254      미풍    30\n",
              "216255      미풍    24\n",
              "216256      미풍     7\n",
              "216257      미풍     2\n",
              "\n",
              "[216258 rows x 2 columns]"
            ]
          },
          "metadata": {
            "tags": []
          },
          "execution_count": 26
        }
      ]
    },
    {
      "cell_type": "code",
      "metadata": {
        "colab": {
          "base_uri": "https://localhost:8080/"
        },
        "id": "EoElqpm4DkTK",
        "outputId": "c98546d2-ab9f-4a1f-ac54-35be61a6e81e"
      },
      "source": [
        "wind = wind['이용건수'].groupby(wind['풍속'])\n",
        "wind = wind.sum()\n",
        "\n",
        "wind = pd.DataFrame(wind).reset_index()\n",
        "print(wind)"
      ],
      "execution_count": null,
      "outputs": [
        {
          "output_type": "stream",
          "text": [
            "       풍속      이용건수\n",
            "0  고요한 상태   5815795\n",
            "1      미풍  14407120\n",
            "2      연풍   2766739\n",
            "3      화풍     63541\n",
            "4      강풍       272\n"
          ],
          "name": "stdout"
        }
      ]
    },
    {
      "cell_type": "code",
      "metadata": {
        "colab": {
          "base_uri": "https://localhost:8080/",
          "height": 418
        },
        "id": "1ODkXQUqD51z",
        "outputId": "32a74757-48ce-46ff-cb27-1e37af818a57"
      },
      "source": [
        "ax = plt.subplots() \n",
        "ax = sns.barplot(x = wind['풍속'], y=wind['이용건수'], palette = 'crest').set_title('풍속별 이용건수 파악')"
      ],
      "execution_count": null,
      "outputs": [
        {
          "output_type": "display_data",
          "data": {
            "image/png": "[encoded data removed]",
            "text/plain": [
              "<Figure size 1080x432 with 1 Axes>"
            ]
          },
          "metadata": {
            "tags": []
          }
        }
      ]
    },
    {
      "cell_type": "markdown",
      "metadata": {
        "id": "vcbop_H5BQKR"
      },
      "source": [
        "미세먼지농도에 따른 이용건수 파악"
      ]
    },
    {
      "cell_type": "code",
      "metadata": {
        "colab": {
          "base_uri": "https://localhost:8080/",
          "height": 402
        },
        "id": "ZUBKHnA7HF5t",
        "outputId": "840ceb92-537c-4038-d2d4-396d49526a47"
      },
      "source": [
        "mise = pd.cut(data['미세먼지농도'], bins=[0, 30, 80, 150, np.inf], labels=['좋음','보통', '나쁨', '매우 나쁨'], right=False)\n",
        "mise = pd.DataFrame(mise)\n",
        "mise['이용건수'] = data['이용건수']\n",
        "mise"
      ],
      "execution_count": null,
      "outputs": [
        {
          "output_type": "execute_result",
          "data": {
            "text/html": [
              "<div>\n",
              "<style scoped>\n",
              "    .dataframe tbody tr th:only-of-type {\n",
              "        vertical-align: middle;\n",
              "    }\n",
              "\n",
              "    .dataframe tbody tr th {\n",
              "        vertical-align: top;\n",
              "    }\n",
              "\n",
              "    .dataframe thead th {\n",
              "        text-align: right;\n",
              "    }\n",
              "</style>\n",
              "<table border=\"1\" class=\"dataframe\">\n",
              "  <thead>\n",
              "    <tr style=\"text-align: right;\">\n",
              "      <th></th>\n",
              "      <th>미세먼지농도</th>\n",
              "      <th>이용건수</th>\n",
              "    </tr>\n",
              "  </thead>\n",
              "  <tbody>\n",
              "    <tr>\n",
              "      <th>0</th>\n",
              "      <td>좋음</td>\n",
              "      <td>24</td>\n",
              "    </tr>\n",
              "    <tr>\n",
              "      <th>1</th>\n",
              "      <td>좋음</td>\n",
              "      <td>29</td>\n",
              "    </tr>\n",
              "    <tr>\n",
              "      <th>2</th>\n",
              "      <td>좋음</td>\n",
              "      <td>28</td>\n",
              "    </tr>\n",
              "    <tr>\n",
              "      <th>3</th>\n",
              "      <td>보통</td>\n",
              "      <td>21</td>\n",
              "    </tr>\n",
              "    <tr>\n",
              "      <th>4</th>\n",
              "      <td>보통</td>\n",
              "      <td>14</td>\n",
              "    </tr>\n",
              "    <tr>\n",
              "      <th>...</th>\n",
              "      <td>...</td>\n",
              "      <td>...</td>\n",
              "    </tr>\n",
              "    <tr>\n",
              "      <th>216253</th>\n",
              "      <td>보통</td>\n",
              "      <td>33</td>\n",
              "    </tr>\n",
              "    <tr>\n",
              "      <th>216254</th>\n",
              "      <td>보통</td>\n",
              "      <td>30</td>\n",
              "    </tr>\n",
              "    <tr>\n",
              "      <th>216255</th>\n",
              "      <td>보통</td>\n",
              "      <td>24</td>\n",
              "    </tr>\n",
              "    <tr>\n",
              "      <th>216256</th>\n",
              "      <td>보통</td>\n",
              "      <td>7</td>\n",
              "    </tr>\n",
              "    <tr>\n",
              "      <th>216257</th>\n",
              "      <td>보통</td>\n",
              "      <td>2</td>\n",
              "    </tr>\n",
              "  </tbody>\n",
              "</table>\n",
              "<p>216258 rows × 2 columns</p>\n",
              "</div>"
            ],
            "text/plain": [
              "       미세먼지농도  이용건수\n",
              "0          좋음    24\n",
              "1          좋음    29\n",
              "2          좋음    28\n",
              "3          보통    21\n",
              "4          보통    14\n",
              "...       ...   ...\n",
              "216253     보통    33\n",
              "216254     보통    30\n",
              "216255     보통    24\n",
              "216256     보통     7\n",
              "216257     보통     2\n",
              "\n",
              "[216258 rows x 2 columns]"
            ]
          },
          "metadata": {
            "tags": []
          },
          "execution_count": 29
        }
      ]
    },
    {
      "cell_type": "code",
      "metadata": {
        "colab": {
          "base_uri": "https://localhost:8080/"
        },
        "id": "zWgnu9W6HLmv",
        "outputId": "83f81ac6-a4fe-43d3-d1cb-d4c7c52bf10c"
      },
      "source": [
        "mise = mise['이용건수'].groupby(mise['미세먼지농도'])\n",
        "mise = mise.sum()\n",
        "\n",
        "mise = pd.DataFrame(mise).reset_index()\n",
        "print(mise)"
      ],
      "execution_count": null,
      "outputs": [
        {
          "output_type": "stream",
          "text": [
            "  미세먼지농도      이용건수\n",
            "0     좋음   6611684\n",
            "1     보통  14382399\n",
            "2     나쁨   1874008\n",
            "3  매우 나쁨    185376\n"
          ],
          "name": "stdout"
        }
      ]
    },
    {
      "cell_type": "code",
      "metadata": {
        "colab": {
          "base_uri": "https://localhost:8080/",
          "height": 418
        },
        "id": "BorW3KJMHQ5o",
        "outputId": "42509289-9b9a-4099-87c8-3f86f179c16d"
      },
      "source": [
        "ax = plt.subplots() \n",
        "ax = sns.barplot(x = mise['미세먼지농도'], y=mise['이용건수'], palette = 'YlOrBr').set_title('미세먼지 농도별 이용건수 파악')"
      ],
      "execution_count": null,
      "outputs": [
        {
          "output_type": "display_data",
          "data": {
            "image/png": "[encoded data removed]",
            "text/plain": [
              "<Figure size 1080x432 with 1 Axes>"
            ]
          },
          "metadata": {
            "tags": []
          }
        }
      ]
    },
    {
      "cell_type": "code",
      "metadata": {
        "colab": {
          "base_uri": "https://localhost:8080/",
          "height": 436
        },
        "id": "asYMIilWoyyZ",
        "outputId": "94a4519e-0c3c-45e8-c190-6516dd187e5e"
      },
      "source": [
        "days = d[['요일', '이용건수']].groupby('요일').sum().reset_index()\n",
        "ax = sns.barplot(x = days['요일'], y=days['이용건수'], palette = 'crest')\n",
        "ax.set_title('요일별 이용건수 파악')"
      ],
      "execution_count": null,
      "outputs": [
        {
          "output_type": "execute_result",
          "data": {
            "text/plain": [
              "Text(0.5, 1.0, '요일별 이용건수 파악')"
            ]
          },
          "metadata": {
            "tags": []
          },
          "execution_count": 57
        },
        {
          "output_type": "display_data",
          "data": {
            "image/png": "[encoded data removed]",
            "text/plain": [
              "<Figure size 1080x432 with 1 Axes>"
            ]
          },
          "metadata": {
            "tags": []
          }
        }
      ]
    },
    {
      "cell_type": "code",
      "metadata": {
        "colab": {
          "base_uri": "https://localhost:8080/",
          "height": 436
        },
        "id": "mZNDV8rfpaP8",
        "outputId": "10f08950-ff7a-4c00-e182-d0c51ba75689"
      },
      "source": [
        "days = d[['달', '이용건수']].groupby('달').sum().reset_index()\n",
        "ax = sns.barplot(x = days['달'], y=days['이용건수'], palette = 'crest')\n",
        "ax.set_title('월별 이용건수 파악')"
      ],
      "execution_count": null,
      "outputs": [
        {
          "output_type": "execute_result",
          "data": {
            "text/plain": [
              "Text(0.5, 1.0, '월별 이용건수 파악')"
            ]
          },
          "metadata": {
            "tags": []
          },
          "execution_count": 58
        },
        {
          "output_type": "display_data",
          "data": {
            "image/png": "[encoded data removed]",
            "text/plain": [
              "<Figure size 1080x432 with 1 Axes>"
            ]
          },
          "metadata": {
            "tags": []
          }
        }
      ]
    }
  ]
}