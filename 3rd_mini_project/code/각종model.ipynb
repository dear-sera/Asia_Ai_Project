{
  "nbformat": 4,
  "nbformat_minor": 0,
  "metadata": {
    "colab": {
      "name": "각종 모델을 돌려보자 휘릭.ipynb",
      "provenance": [],
      "collapsed_sections": [],
      "toc_visible": true,
      "include_colab_link": true
    },
    "kernelspec": {
      "name": "python3",
      "display_name": "Python 3"
    },
    "language_info": {
      "name": "python"
    },
    "accelerator": "GPU"
  },
  "cells": [
    {
      "cell_type": "markdown",
      "metadata": {
        "id": "view-in-github",
        "colab_type": "text"
      },
      "source": [
        "<a href=\"https://colab.research.google.com/github/sera0911/asia_ai_project/blob/main/3rd_mini_project/code/%EA%B0%81%EC%A2%85model.ipynb\" target=\"_parent\"><img src=\"https://colab.research.google.com/assets/colab-badge.svg\" alt=\"Open In Colab\"/></a>"
      ]
    },
    {
      "cell_type": "code",
      "metadata": {
        "id": "MNnjKbG4WJcY"
      },
      "source": [
        "import pandas as pd\n",
        "from sklearn.preprocessing import MinMaxScaler\n",
        "from sklearn.model_selection import train_test_split, KFold\n",
        "from sklearn.metrics import mean_absolute_error, accuracy_score, r2_score\n",
        "from sklearn.model_selection import GridSearchCV\n",
        "\n",
        "# 데이터 로드\n",
        "data = pd.read_csv('/content/drive/MyDrive/projects/3차-따릉이/data/data.csv')\n",
        "data"
      ],
      "execution_count": null,
      "outputs": []
    },
    {
      "cell_type": "code",
      "metadata": {
        "id": "72otMtCwgXU6"
      },
      "source": [
        "features = data.drop(['이용건수'], axis=1)\n",
        "target = data['이용건수']"
      ],
      "execution_count": null,
      "outputs": []
    },
    {
      "cell_type": "code",
      "metadata": {
        "id": "FDsFqIHLDHze"
      },
      "source": [
        "scaler = MinMaxScaler()\n",
        "feature_scaled = pd.DataFrame(scaler.fit_transform(features), columns=features.columns)"
      ],
      "execution_count": null,
      "outputs": []
    },
    {
      "cell_type": "code",
      "metadata": {
        "id": "7MYVFdI5hRQx"
      },
      "source": [
        "X_train, X_test, y_train, y_test = train_test_split(feature_scaled, target, random_state=0)"
      ],
      "execution_count": null,
      "outputs": []
    },
    {
      "cell_type": "code",
      "metadata": {
        "id": "EwW0UhdLqCb8"
      },
      "source": [
        "kfold = KFold(n_splits=5, shuffle=True)"
      ],
      "execution_count": null,
      "outputs": []
    },
    {
      "cell_type": "markdown",
      "metadata": {
        "id": "bD-8hLikYy-H"
      },
      "source": [
        "# Ridge"
      ]
    },
    {
      "cell_type": "code",
      "metadata": {
        "colab": {
          "base_uri": "https://localhost:8080/",
          "height": 399
        },
        "id": "CwTyW-ljWJf_",
        "outputId": "f7544171-6d18-44c2-dbd3-7da932e9bfbf"
      },
      "source": [
        "from sklearn.linear_model import Ridge\n",
        "\n",
        "ridge = Ridge()\n",
        "# parameter 넣어줄 값들 dict 형태로 정의해주기\n",
        "param = {'alpha':[1, 10]}\n",
        "\n",
        "grid_ridge = GridSearchCV(estimator=ridge, scoring='r2', param_grid=param, cv=3, return_train_score=True, verbose=2)\n",
        "\n",
        "# GridSearch 하면서 모든 파라미터값들에 대해 학습 수행\n",
        "grid_ridge.fit(X_train, y_train)\n",
        "\n",
        "# 각 파라미터값들에 대한 모델 결과값들이 cv_results_ 객체에 할당됨\n",
        "scores_df = pd.DataFrame(grid_ridge.cv_results_)\n",
        "\n",
        "# score 결과값(ndarray형태로 할당됨) 중 특정 칼럼들만 가져오기 \n",
        "scores_df[['params', 'mean_test_score', 'rank_test_score', \n",
        "           'split0_test_score', 'split1_test_score', 'split2_test_score']]"
      ],
      "execution_count": null,
      "outputs": [
        {
          "output_type": "stream",
          "text": [
            "Fitting 3 folds for each of 2 candidates, totalling 6 fits\n",
            "[CV] alpha=1 .........................................................\n",
            "[CV] .......................................... alpha=1, total=   0.0s\n",
            "[CV] alpha=1 .........................................................\n",
            "[CV] .......................................... alpha=1, total=   0.0s\n",
            "[CV] alpha=1 .........................................................\n",
            "[CV] .......................................... alpha=1, total=   0.0s\n",
            "[CV] alpha=10 ........................................................\n",
            "[CV] ......................................... alpha=10, total=   0.0s\n",
            "[CV] alpha=10 ........................................................\n",
            "[CV] ......................................... alpha=10, total=   0.0s\n",
            "[CV] alpha=10 ........................................................\n",
            "[CV] ......................................... alpha=10, total=   0.0s\n"
          ],
          "name": "stdout"
        },
        {
          "output_type": "stream",
          "text": [
            "[Parallel(n_jobs=1)]: Using backend SequentialBackend with 1 concurrent workers.\n",
            "[Parallel(n_jobs=1)]: Done   1 out of   1 | elapsed:    0.1s remaining:    0.0s\n",
            "[Parallel(n_jobs=1)]: Done   6 out of   6 | elapsed:    0.2s finished\n"
          ],
          "name": "stderr"
        },
        {
          "output_type": "execute_result",
          "data": {
            "text/html": [
              "<div>\n",
              "<style scoped>\n",
              "    .dataframe tbody tr th:only-of-type {\n",
              "        vertical-align: middle;\n",
              "    }\n",
              "\n",
              "    .dataframe tbody tr th {\n",
              "        vertical-align: top;\n",
              "    }\n",
              "\n",
              "    .dataframe thead th {\n",
              "        text-align: right;\n",
              "    }\n",
              "</style>\n",
              "<table border=\"1\" class=\"dataframe\">\n",
              "  <thead>\n",
              "    <tr style=\"text-align: right;\">\n",
              "      <th></th>\n",
              "      <th>params</th>\n",
              "      <th>mean_test_score</th>\n",
              "      <th>rank_test_score</th>\n",
              "      <th>split0_test_score</th>\n",
              "      <th>split1_test_score</th>\n",
              "      <th>split2_test_score</th>\n",
              "    </tr>\n",
              "  </thead>\n",
              "  <tbody>\n",
              "    <tr>\n",
              "      <th>0</th>\n",
              "      <td>{'alpha': 1}</td>\n",
              "      <td>0.277512</td>\n",
              "      <td>1</td>\n",
              "      <td>0.277066</td>\n",
              "      <td>0.276563</td>\n",
              "      <td>0.278906</td>\n",
              "    </tr>\n",
              "    <tr>\n",
              "      <th>1</th>\n",
              "      <td>{'alpha': 10}</td>\n",
              "      <td>0.277090</td>\n",
              "      <td>2</td>\n",
              "      <td>0.276494</td>\n",
              "      <td>0.276201</td>\n",
              "      <td>0.278576</td>\n",
              "    </tr>\n",
              "  </tbody>\n",
              "</table>\n",
              "</div>"
            ],
            "text/plain": [
              "          params  mean_test_score  ...  split1_test_score  split2_test_score\n",
              "0   {'alpha': 1}         0.277512  ...           0.276563           0.278906\n",
              "1  {'alpha': 10}         0.277090  ...           0.276201           0.278576\n",
              "\n",
              "[2 rows x 6 columns]"
            ]
          },
          "metadata": {
            "tags": []
          },
          "execution_count": 11
        }
      ]
    },
    {
      "cell_type": "code",
      "metadata": {
        "colab": {
          "base_uri": "https://localhost:8080/"
        },
        "id": "l9wME90dWJo4",
        "outputId": "12368f61-4158-48d0-8e6d-f7f97e557071"
      },
      "source": [
        "# 최적 파라미터는 best_params_에 저장되어있음\n",
        "print(f\"최적 파라미터 : {grid_ridge.best_params_}\")\n",
        "print(f\"최적 모델의 r2 score: {grid_ridge.best_score_}\")\n",
        "\n",
        "print()\n",
        "print()\n",
        "\n",
        "# 최적의 파라미터로 학습되어 있는 모델 할당\n",
        "estimator = grid_ridge.best_estimator_\n",
        "\n",
        "# 최적의 모델로 예측해보고 실제값과 정확도 비교\n",
        "y_pred = estimator.predict(X_test)\n",
        "print(f\"test 데이터를 사용한 r2 score : {r2_score(y_test, y_pred)}\")\n",
        "print(f\"test 데이터를 사용한 mean_absolute_error : {mean_absolute_error(y_test, y_pred)}\")"
      ],
      "execution_count": null,
      "outputs": [
        {
          "output_type": "stream",
          "text": [
            "최적 파라미터 : {'alpha': 1}\n",
            "최적 모델의 r2 score: 0.27751184672187096\n",
            "\n",
            "\n",
            "test 데이터를 사용한 r2 score : 0.27734296668313074\n",
            "test 데이터를 사용한 mean_absolute_error : 65.09808379282768\n"
          ],
          "name": "stdout"
        }
      ]
    },
    {
      "cell_type": "markdown",
      "metadata": {
        "id": "rERHy2tpWJsb"
      },
      "source": [
        "# Lasso"
      ]
    },
    {
      "cell_type": "code",
      "metadata": {
        "colab": {
          "base_uri": "https://localhost:8080/",
          "height": 399
        },
        "id": "1ubje9LEc1Cf",
        "outputId": "c17a460a-ecaa-415f-a535-75cc457e85c9"
      },
      "source": [
        "from sklearn.linear_model import Lasso\n",
        "\n",
        "lasso = Lasso()\n",
        "# parameter 넣어줄 값들 dict 형태로 정의해주기\n",
        "param = {'alpha':[1, 10]}\n",
        "\n",
        "grid_lasso = GridSearchCV(estimator=lasso, scoring='r2', param_grid=param, cv=3, return_train_score=True, verbose=2)\n",
        "\n",
        "# GridSearch 하면서 모든 파라미터값들에 대해 학습 수행\n",
        "grid_lasso.fit(X_train, y_train)\n",
        "\n",
        "# 각 파라미터값들에 대한 모델 결과값들이 cv_results_ 객체에 할당됨\n",
        "scores_df = pd.DataFrame(grid_lasso.cv_results_)\n",
        "\n",
        "# score 결과값(ndarray형태로 할당됨) 중 특정 칼럼들만 가져오기 \n",
        "scores_df[['params', 'mean_test_score', 'rank_test_score', \n",
        "           'split0_test_score', 'split1_test_score', 'split2_test_score']]"
      ],
      "execution_count": null,
      "outputs": [
        {
          "output_type": "stream",
          "text": [
            "Fitting 3 folds for each of 2 candidates, totalling 6 fits\n",
            "[CV] alpha=1 .........................................................\n",
            "[CV] .......................................... alpha=1, total=   0.0s\n",
            "[CV] alpha=1 .........................................................\n",
            "[CV] .......................................... alpha=1, total=   0.0s\n",
            "[CV] alpha=1 .........................................................\n",
            "[CV] .......................................... alpha=1, total=   0.0s\n",
            "[CV] alpha=10 ........................................................\n",
            "[CV] ......................................... alpha=10, total=   0.0s\n",
            "[CV] alpha=10 ........................................................\n"
          ],
          "name": "stdout"
        },
        {
          "output_type": "stream",
          "text": [
            "[Parallel(n_jobs=1)]: Using backend SequentialBackend with 1 concurrent workers.\n",
            "[Parallel(n_jobs=1)]: Done   1 out of   1 | elapsed:    0.0s remaining:    0.0s\n"
          ],
          "name": "stderr"
        },
        {
          "output_type": "stream",
          "text": [
            "[CV] ......................................... alpha=10, total=   0.0s\n",
            "[CV] alpha=10 ........................................................\n",
            "[CV] ......................................... alpha=10, total=   0.0s\n"
          ],
          "name": "stdout"
        },
        {
          "output_type": "stream",
          "text": [
            "[Parallel(n_jobs=1)]: Done   6 out of   6 | elapsed:    0.3s finished\n"
          ],
          "name": "stderr"
        },
        {
          "output_type": "execute_result",
          "data": {
            "text/html": [
              "<div>\n",
              "<style scoped>\n",
              "    .dataframe tbody tr th:only-of-type {\n",
              "        vertical-align: middle;\n",
              "    }\n",
              "\n",
              "    .dataframe tbody tr th {\n",
              "        vertical-align: top;\n",
              "    }\n",
              "\n",
              "    .dataframe thead th {\n",
              "        text-align: right;\n",
              "    }\n",
              "</style>\n",
              "<table border=\"1\" class=\"dataframe\">\n",
              "  <thead>\n",
              "    <tr style=\"text-align: right;\">\n",
              "      <th></th>\n",
              "      <th>params</th>\n",
              "      <th>mean_test_score</th>\n",
              "      <th>rank_test_score</th>\n",
              "      <th>split0_test_score</th>\n",
              "      <th>split1_test_score</th>\n",
              "      <th>split2_test_score</th>\n",
              "    </tr>\n",
              "  </thead>\n",
              "  <tbody>\n",
              "    <tr>\n",
              "      <th>0</th>\n",
              "      <td>{'alpha': 1}</td>\n",
              "      <td>0.255269</td>\n",
              "      <td>1</td>\n",
              "      <td>0.254592</td>\n",
              "      <td>0.253754</td>\n",
              "      <td>0.257461</td>\n",
              "    </tr>\n",
              "    <tr>\n",
              "      <th>1</th>\n",
              "      <td>{'alpha': 10}</td>\n",
              "      <td>0.064051</td>\n",
              "      <td>2</td>\n",
              "      <td>0.063152</td>\n",
              "      <td>0.063046</td>\n",
              "      <td>0.065954</td>\n",
              "    </tr>\n",
              "  </tbody>\n",
              "</table>\n",
              "</div>"
            ],
            "text/plain": [
              "          params  mean_test_score  ...  split1_test_score  split2_test_score\n",
              "0   {'alpha': 1}         0.255269  ...           0.253754           0.257461\n",
              "1  {'alpha': 10}         0.064051  ...           0.063046           0.065954\n",
              "\n",
              "[2 rows x 6 columns]"
            ]
          },
          "metadata": {
            "tags": []
          },
          "execution_count": 13
        }
      ]
    },
    {
      "cell_type": "code",
      "metadata": {
        "colab": {
          "base_uri": "https://localhost:8080/"
        },
        "id": "4znQlUOhc35O",
        "outputId": "43966c75-b33a-4ccd-97a4-ef30bc98d81b"
      },
      "source": [
        "# 최적 파라미터는 best_params_에 저장되어있음\n",
        "print(f\"최적 파라미터 : {grid_lasso.best_params_}\")\n",
        "print(f\"최적 모델의 r2 score: {grid_lasso.best_score_}\")\n",
        "\n",
        "print()\n",
        "print()\n",
        "\n",
        "# 최적의 파라미터로 학습되어 있는 모델 할당\n",
        "estimator = grid_lasso.best_estimator_\n",
        "\n",
        "# 최적의 모델로 예측해보고 실제값과 정확도 비교\n",
        "y_pred = estimator.predict(X_test)\n",
        "print(f\"test 데이터를 사용한 r2 score : {r2_score(y_test, y_pred)}\")\n",
        "print(f\"test 데이터를 사용한 mean_absolute_error : {mean_absolute_error(y_test, y_pred)}\")"
      ],
      "execution_count": null,
      "outputs": [
        {
          "output_type": "stream",
          "text": [
            "최적 파라미터 : {'alpha': 1}\n",
            "최적 모델의 r2 score: 0.25526881568508714\n",
            "\n",
            "\n",
            "test 데이터를 사용한 r2 score : 0.2561897001559884\n",
            "test 데이터를 사용한 mean_absolute_error : 65.39143606265215\n"
          ],
          "name": "stdout"
        }
      ]
    },
    {
      "cell_type": "markdown",
      "metadata": {
        "id": "b8ZYNEK2dFCg"
      },
      "source": [
        "# Elastic Net"
      ]
    },
    {
      "cell_type": "code",
      "metadata": {
        "colab": {
          "base_uri": "https://localhost:8080/",
          "height": 538
        },
        "id": "tJCVG4CydZeK",
        "outputId": "b3761133-3506-41bf-9adc-9bb32505b44a"
      },
      "source": [
        "from sklearn.linear_model import ElasticNet\n",
        "\n",
        "elastic = ElasticNet()\n",
        "# parameter 넣어줄 값들 dict 형태로 정의해주기\n",
        "param = {'alpha':[0.001, 1, 10]}\n",
        "\n",
        "gird_elastic = GridSearchCV(estimator=elastic, scoring='r2', param_grid=param, cv=3, return_train_score=True, verbose=2)\n",
        "\n",
        "# GridSearch 하면서 모든 파라미터값들에 대해 학습 수행\n",
        "gird_elastic.fit(X_train, y_train)\n",
        "\n",
        "# 각 파라미터값들에 대한 모델 결과값들이 cv_results_ 객체에 할당됨\n",
        "scores_df = pd.DataFrame(gird_elastic.cv_results_)\n",
        "\n",
        "# score 결과값(ndarray형태로 할당됨) 중 특정 칼럼들만 가져오기 \n",
        "scores_df[['params', 'mean_test_score', 'rank_test_score', \n",
        "           'split0_test_score', 'split1_test_score', 'split2_test_score']]"
      ],
      "execution_count": null,
      "outputs": [
        {
          "output_type": "stream",
          "text": [
            "Fitting 3 folds for each of 3 candidates, totalling 9 fits\n",
            "[CV] alpha=0.001 .....................................................\n",
            "[CV] ...................................... alpha=0.001, total=   0.0s\n",
            "[CV] alpha=0.001 .....................................................\n",
            "[CV] ...................................... alpha=0.001, total=   0.1s\n",
            "[CV] alpha=0.001 .....................................................\n"
          ],
          "name": "stdout"
        },
        {
          "output_type": "stream",
          "text": [
            "[Parallel(n_jobs=1)]: Using backend SequentialBackend with 1 concurrent workers.\n",
            "[Parallel(n_jobs=1)]: Done   1 out of   1 | elapsed:    0.0s remaining:    0.0s\n"
          ],
          "name": "stderr"
        },
        {
          "output_type": "stream",
          "text": [
            "[CV] ...................................... alpha=0.001, total=   0.1s\n",
            "[CV] alpha=1 .........................................................\n",
            "[CV] .......................................... alpha=1, total=   0.0s\n",
            "[CV] alpha=1 .........................................................\n",
            "[CV] .......................................... alpha=1, total=   0.0s\n",
            "[CV] alpha=1 .........................................................\n",
            "[CV] .......................................... alpha=1, total=   0.0s\n",
            "[CV] alpha=10 ........................................................\n",
            "[CV] ......................................... alpha=10, total=   0.0s\n",
            "[CV] alpha=10 ........................................................\n",
            "[CV] ......................................... alpha=10, total=   0.0s\n",
            "[CV] alpha=10 ........................................................\n",
            "[CV] ......................................... alpha=10, total=   0.0s\n"
          ],
          "name": "stdout"
        },
        {
          "output_type": "stream",
          "text": [
            "[Parallel(n_jobs=1)]: Done   9 out of   9 | elapsed:    0.5s finished\n"
          ],
          "name": "stderr"
        },
        {
          "output_type": "execute_result",
          "data": {
            "text/html": [
              "<div>\n",
              "<style scoped>\n",
              "    .dataframe tbody tr th:only-of-type {\n",
              "        vertical-align: middle;\n",
              "    }\n",
              "\n",
              "    .dataframe tbody tr th {\n",
              "        vertical-align: top;\n",
              "    }\n",
              "\n",
              "    .dataframe thead th {\n",
              "        text-align: right;\n",
              "    }\n",
              "</style>\n",
              "<table border=\"1\" class=\"dataframe\">\n",
              "  <thead>\n",
              "    <tr style=\"text-align: right;\">\n",
              "      <th></th>\n",
              "      <th>params</th>\n",
              "      <th>mean_test_score</th>\n",
              "      <th>rank_test_score</th>\n",
              "      <th>split0_test_score</th>\n",
              "      <th>split1_test_score</th>\n",
              "      <th>split2_test_score</th>\n",
              "    </tr>\n",
              "  </thead>\n",
              "  <tbody>\n",
              "    <tr>\n",
              "      <th>0</th>\n",
              "      <td>{'alpha': 0.001}</td>\n",
              "      <td>0.273042</td>\n",
              "      <td>1</td>\n",
              "      <td>0.272334</td>\n",
              "      <td>0.272114</td>\n",
              "      <td>0.274678</td>\n",
              "    </tr>\n",
              "    <tr>\n",
              "      <th>1</th>\n",
              "      <td>{'alpha': 1}</td>\n",
              "      <td>0.060446</td>\n",
              "      <td>2</td>\n",
              "      <td>0.059821</td>\n",
              "      <td>0.059773</td>\n",
              "      <td>0.061744</td>\n",
              "    </tr>\n",
              "    <tr>\n",
              "      <th>2</th>\n",
              "      <td>{'alpha': 10}</td>\n",
              "      <td>0.003974</td>\n",
              "      <td>3</td>\n",
              "      <td>0.003930</td>\n",
              "      <td>0.003927</td>\n",
              "      <td>0.004066</td>\n",
              "    </tr>\n",
              "  </tbody>\n",
              "</table>\n",
              "</div>"
            ],
            "text/plain": [
              "             params  mean_test_score  ...  split1_test_score  split2_test_score\n",
              "0  {'alpha': 0.001}         0.273042  ...           0.272114           0.274678\n",
              "1      {'alpha': 1}         0.060446  ...           0.059773           0.061744\n",
              "2     {'alpha': 10}         0.003974  ...           0.003927           0.004066\n",
              "\n",
              "[3 rows x 6 columns]"
            ]
          },
          "metadata": {
            "tags": []
          },
          "execution_count": 16
        }
      ]
    },
    {
      "cell_type": "code",
      "metadata": {
        "colab": {
          "base_uri": "https://localhost:8080/"
        },
        "id": "VLs1_HXydbCn",
        "outputId": "568b6ce7-a8b3-4f1d-f4a0-313430579c93"
      },
      "source": [
        "# 최적 파라미터는 best_params_에 저장되어있음\n",
        "print(f\"최적 파라미터 : {gird_elastic.best_params_}\")\n",
        "print(f\"최적 모델의 r2 score: {gird_elastic.best_score_}\")\n",
        "\n",
        "print()\n",
        "print()\n",
        "\n",
        "# 최적의 파라미터로 학습되어 있는 모델 할당\n",
        "estimator = gird_elastic.best_estimator_\n",
        "\n",
        "# 최적의 모델로 예측해보고 실제값과 정확도 비교\n",
        "y_pred = estimator.predict(X_test)\n",
        "print(f\"test 데이터를 사용한 r2 score : {r2_score(y_test, y_pred)}\")\n",
        "print(f\"test 데이터를 사용한 mean_absolute_error : {mean_absolute_error(y_test, y_pred)}\")"
      ],
      "execution_count": null,
      "outputs": [
        {
          "output_type": "stream",
          "text": [
            "최적 파라미터 : {'alpha': 0.001}\n",
            "최적 모델의 r2 score: 0.27304188422918146\n",
            "\n",
            "\n",
            "test 데이터를 사용한 r2 score : 0.273086855877257\n",
            "test 데이터를 사용한 mean_absolute_error : 65.16633087770813\n"
          ],
          "name": "stdout"
        }
      ]
    },
    {
      "cell_type": "markdown",
      "metadata": {
        "id": "p2G7xdv0dmHv"
      },
      "source": [
        "# RandomForestRegressor"
      ]
    },
    {
      "cell_type": "code",
      "metadata": {
        "colab": {
          "base_uri": "https://localhost:8080/",
          "height": 260
        },
        "id": "3JPBWdqHhBfK",
        "outputId": "77dc1b26-04b7-4963-fce8-f38178b888aa"
      },
      "source": [
        "from sklearn.ensemble import RandomForestRegressor\n",
        "\n",
        "randomforest = RandomForestRegressor()\n",
        "# parameter 넣어줄 값들 dict 형태로 정의해주기\n",
        "param = {}\n",
        "\n",
        "gird_randomforest = GridSearchCV(estimator=randomforest,\n",
        "                                 scoring='r2', param_grid=param,\n",
        "                                 cv=3, return_train_score=True, verbose=2)\n",
        "\n",
        "# GridSearch 하면서 모든 파라미터값들에 대해 학습 수행\n",
        "gird_randomforest.fit(X_train, y_train)\n",
        "\n",
        "# 각 파라미터값들에 대한 모델 결과값들이 cv_results_ 객체에 할당됨\n",
        "scores_df = pd.DataFrame(gird_randomforest.cv_results_)\n",
        "\n",
        "# score 결과값(ndarray형태로 할당됨) 중 특정 칼럼들만 가져오기 \n",
        "scores_df[['params', 'mean_test_score', 'rank_test_score', \n",
        "           'split0_test_score', 'split1_test_score', 'split2_test_score']]"
      ],
      "execution_count": null,
      "outputs": [
        {
          "output_type": "stream",
          "text": [
            "Fitting 3 folds for each of 1 candidates, totalling 3 fits\n",
            "[CV]  ................................................................\n"
          ],
          "name": "stdout"
        },
        {
          "output_type": "stream",
          "text": [
            "[Parallel(n_jobs=1)]: Using backend SequentialBackend with 1 concurrent workers.\n"
          ],
          "name": "stderr"
        },
        {
          "output_type": "stream",
          "text": [
            "[CV] ................................................. , total=  43.9s\n",
            "[CV]  ................................................................\n"
          ],
          "name": "stdout"
        },
        {
          "output_type": "stream",
          "text": [
            "[Parallel(n_jobs=1)]: Done   1 out of   1 | elapsed:   47.9s remaining:    0.0s\n"
          ],
          "name": "stderr"
        },
        {
          "output_type": "stream",
          "text": [
            "[CV] ................................................. , total=  43.6s\n",
            "[CV]  ................................................................\n",
            "[CV] ................................................. , total=  43.6s\n"
          ],
          "name": "stdout"
        },
        {
          "output_type": "stream",
          "text": [
            "[Parallel(n_jobs=1)]: Done   3 out of   3 | elapsed:  2.4min finished\n"
          ],
          "name": "stderr"
        },
        {
          "output_type": "execute_result",
          "data": {
            "text/html": [
              "<div>\n",
              "<style scoped>\n",
              "    .dataframe tbody tr th:only-of-type {\n",
              "        vertical-align: middle;\n",
              "    }\n",
              "\n",
              "    .dataframe tbody tr th {\n",
              "        vertical-align: top;\n",
              "    }\n",
              "\n",
              "    .dataframe thead th {\n",
              "        text-align: right;\n",
              "    }\n",
              "</style>\n",
              "<table border=\"1\" class=\"dataframe\">\n",
              "  <thead>\n",
              "    <tr style=\"text-align: right;\">\n",
              "      <th></th>\n",
              "      <th>params</th>\n",
              "      <th>mean_test_score</th>\n",
              "      <th>rank_test_score</th>\n",
              "      <th>split0_test_score</th>\n",
              "      <th>split1_test_score</th>\n",
              "      <th>split2_test_score</th>\n",
              "    </tr>\n",
              "  </thead>\n",
              "  <tbody>\n",
              "    <tr>\n",
              "      <th>0</th>\n",
              "      <td>{}</td>\n",
              "      <td>0.882792</td>\n",
              "      <td>1</td>\n",
              "      <td>0.887371</td>\n",
              "      <td>0.880903</td>\n",
              "      <td>0.880102</td>\n",
              "    </tr>\n",
              "  </tbody>\n",
              "</table>\n",
              "</div>"
            ],
            "text/plain": [
              "  params  mean_test_score  ...  split1_test_score  split2_test_score\n",
              "0     {}         0.882792  ...           0.880903           0.880102\n",
              "\n",
              "[1 rows x 6 columns]"
            ]
          },
          "metadata": {
            "tags": []
          },
          "execution_count": 18
        }
      ]
    },
    {
      "cell_type": "code",
      "metadata": {
        "colab": {
          "base_uri": "https://localhost:8080/"
        },
        "id": "n1Wck35IhDER",
        "outputId": "386db089-3a95-44e9-8733-8352738f4e9e"
      },
      "source": [
        "# 최적 파라미터는 best_params_에 저장되어있음\n",
        "print(f\"최적 파라미터 : {gird_randomforest.best_params_}\")\n",
        "print(f\"최적 모델의 r2 score: {gird_randomforest.best_score_}\")\n",
        "\n",
        "print()\n",
        "print()\n",
        "\n",
        "# 최적의 파라미터로 학습되어 있는 모델 할당\n",
        "estimator = gird_randomforest.best_estimator_\n",
        "\n",
        "# 최적의 모델로 예측해보고 실제값과 정확도 비교\n",
        "y_pred = estimator.predict(X_test)\n",
        "print(f\"test 데이터를 사용한 r2 score : {r2_score(y_test, y_pred)}\")\n",
        "print(f\"test 데이터를 사용한 mean_absolute_error : {mean_absolute_error(y_test, y_pred)}\")"
      ],
      "execution_count": null,
      "outputs": [
        {
          "output_type": "stream",
          "text": [
            "최적 파라미터 : {}\n",
            "최적 모델의 r2 score: 0.8827923519390096\n",
            "\n",
            "\n",
            "test 데이터를 사용한 r2 score : 0.8904727245271307\n",
            "test 데이터를 사용한 mean_absolute_error : 20.7221007121058\n"
          ],
          "name": "stdout"
        }
      ]
    },
    {
      "cell_type": "code",
      "metadata": {
        "id": "VzurydT8djPA"
      },
      "source": [
        "import xgboost as xgb\n",
        "from lightgbm import LGBMRegressor, plot_importance"
      ],
      "execution_count": null,
      "outputs": []
    },
    {
      "cell_type": "markdown",
      "metadata": {
        "id": "uA3cHZOjFP4V"
      },
      "source": [
        "# XGBBooster"
      ]
    },
    {
      "cell_type": "code",
      "metadata": {
        "id": "P5LHJmqj5kl9"
      },
      "source": [
        "xgbr = xgb.XGBRegressor()\n",
        "\n",
        "param = {\n",
        "    'max_depth': [6],\n",
        "    'eta ': [0.3],\n",
        "    'num_boost_round': [1000],\n",
        "    }\n",
        "\n",
        "rand_xgbr = GridSearchCV(xgbr,\n",
        "                         scoring='r2',\n",
        "                         param_grid=param,\n",
        "                         cv=kfold,\n",
        "                         return_train_score=True,\n",
        "                         verbose=2)\n",
        "\n",
        "rand_xgbr.fit(X_train, y_train)\n",
        "\n",
        "scores_df = pd.DataFrame(rand_xgbr.cv_results_)\n",
        "\n",
        "scores_df[['params', 'mean_test_score', 'rank_test_score', \n",
        "           'split0_test_score', 'split1_test_score', 'split2_test_score']]"
      ],
      "execution_count": null,
      "outputs": []
    },
    {
      "cell_type": "markdown",
      "metadata": {
        "id": "JvYR68CRws37"
      },
      "source": [
        "# 결과 확인"
      ]
    },
    {
      "cell_type": "code",
      "metadata": {
        "id": "H5SQzHRNulgq"
      },
      "source": [
        "# 최적 파라미터는 best_params_에 저장되어있음\n",
        "print(f\"최적 파라미터 : {rand_xgbr.best_params_}\")\n",
        "print(f\"최적 모델의 r2 score: {rand_xgbr.best_score_}\")\n",
        "\n",
        "print()\n",
        "print()\n",
        "\n",
        "# 최적의 파라미터로 학습되어 있는 모델 할당\n",
        "estimator = rand_xgbr.best_estimator_\n",
        "\n",
        "# 최적의 모델로 예측해보고 실제값과 정확도 비교\n",
        "y_pred = estimator.predict(X_test)\n",
        "print(f\"test 데이터를 사용한 r2 score : {r2_score(y_test, y_pred)}\")\n",
        "print(f\"test 데이터를 사용한 mean_absolute_error : {mean_absolute_error(y_test, y_pred)}\")"
      ],
      "execution_count": null,
      "outputs": []
    },
    {
      "cell_type": "markdown",
      "metadata": {
        "id": "LMfeO7k3ET7S"
      },
      "source": [
        "# LIghtGBM"
      ]
    },
    {
      "cell_type": "code",
      "metadata": {
        "colab": {
          "base_uri": "https://localhost:8080/",
          "height": 332
        },
        "id": "Fe9yxe6REWLt",
        "outputId": "14c5a9c0-3b82-40f4-cd31-4b3d523d0f7f"
      },
      "source": [
        "# LightGBM Regressor 사용\n",
        "lgbmr = LGBMRegressor()\n",
        "\n",
        "# 파라미터들 dict 형태로 정의\n",
        "param = {\n",
        "    'max_depth': [6],\n",
        "    'learning_rate': [0.3],\n",
        "    'n_estimators': [1000],\n",
        "    }\n",
        "\n",
        "# GridSearchCV 사용해 하이퍼 파라미터 최적화\n",
        "rand_lgbmr = GridSearchCV(lgbmr, # 사용 모델\n",
        "                          scoring='r2', # 학습에 사용할 손실 함수\n",
        "                          param_grid=param, # 파라미터\n",
        "                          cv=kfold, # 폴드 값에 KFold 객체 할당\n",
        "                          return_train_score=True, # 학습 결과 리턴\n",
        "                          verbose=2)\n",
        "\n",
        "# GridSearch 하면서 모든 파라미터값들에 대해 학습 수행\n",
        "rand_lgbmr.fit(X_train, y_train)\n",
        "\n",
        "# 각 파라미터값들에 대한 모델 결과값들이 cv_results_ 객체에 할당됨\n",
        "scores_df = pd.DataFrame(rand_lgbmr.cv_results_)\n",
        "\n",
        "# score 결과값(ndarray형태로 할당됨) 중 특정 칼럼들만 가져옴 \n",
        "scores_df[['params', 'mean_test_score', 'rank_test_score', \n",
        "           'split0_test_score', 'split1_test_score', 'split2_test_score']]"
      ],
      "execution_count": null,
      "outputs": [
        {
          "output_type": "stream",
          "text": [
            "Fitting 5 folds for each of 1 candidates, totalling 5 fits\n",
            "[CV] learning_rate=0.3, max_depth=6, n_estimators=1000 ...............\n"
          ],
          "name": "stdout"
        },
        {
          "output_type": "stream",
          "text": [
            "[Parallel(n_jobs=1)]: Using backend SequentialBackend with 1 concurrent workers.\n"
          ],
          "name": "stderr"
        },
        {
          "output_type": "stream",
          "text": [
            "[CV]  learning_rate=0.3, max_depth=6, n_estimators=1000, total=   7.1s\n",
            "[CV] learning_rate=0.3, max_depth=6, n_estimators=1000 ...............\n"
          ],
          "name": "stdout"
        },
        {
          "output_type": "stream",
          "text": [
            "[Parallel(n_jobs=1)]: Done   1 out of   1 | elapsed:   12.3s remaining:    0.0s\n"
          ],
          "name": "stderr"
        },
        {
          "output_type": "stream",
          "text": [
            "[CV]  learning_rate=0.3, max_depth=6, n_estimators=1000, total=   7.1s\n",
            "[CV] learning_rate=0.3, max_depth=6, n_estimators=1000 ...............\n",
            "[CV]  learning_rate=0.3, max_depth=6, n_estimators=1000, total=   7.2s\n",
            "[CV] learning_rate=0.3, max_depth=6, n_estimators=1000 ...............\n",
            "[CV]  learning_rate=0.3, max_depth=6, n_estimators=1000, total=   7.1s\n",
            "[CV] learning_rate=0.3, max_depth=6, n_estimators=1000 ...............\n",
            "[CV]  learning_rate=0.3, max_depth=6, n_estimators=1000, total=   7.1s\n"
          ],
          "name": "stdout"
        },
        {
          "output_type": "stream",
          "text": [
            "[Parallel(n_jobs=1)]: Done   5 out of   5 | elapsed:  1.0min finished\n"
          ],
          "name": "stderr"
        },
        {
          "output_type": "execute_result",
          "data": {
            "text/html": [
              "<div>\n",
              "<style scoped>\n",
              "    .dataframe tbody tr th:only-of-type {\n",
              "        vertical-align: middle;\n",
              "    }\n",
              "\n",
              "    .dataframe tbody tr th {\n",
              "        vertical-align: top;\n",
              "    }\n",
              "\n",
              "    .dataframe thead th {\n",
              "        text-align: right;\n",
              "    }\n",
              "</style>\n",
              "<table border=\"1\" class=\"dataframe\">\n",
              "  <thead>\n",
              "    <tr style=\"text-align: right;\">\n",
              "      <th></th>\n",
              "      <th>params</th>\n",
              "      <th>mean_test_score</th>\n",
              "      <th>rank_test_score</th>\n",
              "      <th>split0_test_score</th>\n",
              "      <th>split1_test_score</th>\n",
              "      <th>split2_test_score</th>\n",
              "    </tr>\n",
              "  </thead>\n",
              "  <tbody>\n",
              "    <tr>\n",
              "      <th>0</th>\n",
              "      <td>{'learning_rate': 0.3, 'max_depth': 6, 'n_esti...</td>\n",
              "      <td>0.926532</td>\n",
              "      <td>1</td>\n",
              "      <td>0.927372</td>\n",
              "      <td>0.929868</td>\n",
              "      <td>0.926348</td>\n",
              "    </tr>\n",
              "  </tbody>\n",
              "</table>\n",
              "</div>"
            ],
            "text/plain": [
              "                                              params  ...  split2_test_score\n",
              "0  {'learning_rate': 0.3, 'max_depth': 6, 'n_esti...  ...           0.926348\n",
              "\n",
              "[1 rows x 6 columns]"
            ]
          },
          "metadata": {
            "tags": []
          },
          "execution_count": 14
        }
      ]
    },
    {
      "cell_type": "code",
      "metadata": {
        "colab": {
          "base_uri": "https://localhost:8080/"
        },
        "id": "nsDJfP8bEhK3",
        "outputId": "39a8b544-8733-433d-9a24-4fece690d143"
      },
      "source": [
        "# 최적 파라미터는 best_params_에 저장되어있음\n",
        "print(f\"최적 파라미터 : {rand_lgbmr.best_params_}\")\n",
        "print(f\"최적 모델의 r2 score: {rand_lgbmr.best_score_}\")\n",
        "\n",
        "print()\n",
        "print()\n",
        "\n",
        "# 최적의 파라미터로 학습되어 있는 모델 할당\n",
        "estimator = rand_lgbmr.best_estimator_\n",
        "\n",
        "# 최적의 모델로 예측해보고 실제값과 정확도 비교\n",
        "y_pred = estimator.predict(X_test)\n",
        "print(f\"test 데이터를 사용한 r2 score : {r2_score(y_test, y_pred)}\")\n",
        "print(f\"test 데이터를 사용한 mean_absolute_error : {mean_absolute_error(y_test, y_pred)}\")"
      ],
      "execution_count": null,
      "outputs": [
        {
          "output_type": "stream",
          "text": [
            "최적 파라미터 : {'learning_rate': 0.3, 'max_depth': 6, 'n_estimators': 1000}\n",
            "최적 모델의 r2 score: 0.9265319226084798\n",
            "\n",
            "\n",
            "test 데이터를 사용한 r2 score : 0.9281572789240685\n",
            "test 데이터를 사용한 mean_absolute_error : 18.568908039200064\n"
          ],
          "name": "stdout"
        }
      ]
    }
  ]
}