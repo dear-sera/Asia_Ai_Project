{
  "nbformat": 4,
  "nbformat_minor": 0,
  "metadata": {
    "colab": {
      "name": "전처리_진짜_최종.ipynb",
      "provenance": [],
      "collapsed_sections": [],
      "include_colab_link": true
    },
    "kernelspec": {
      "name": "python3",
      "display_name": "Python 3"
    },
    "language_info": {
      "name": "python"
    }
  },
  "cells": [
    {
      "cell_type": "markdown",
      "metadata": {
        "id": "view-in-github",
        "colab_type": "text"
      },
      "source": [
        "<a href=\"https://colab.research.google.com/github/sera0911/asia_ai_project/blob/main/3rd_mini_project/code/%EC%A0%84%EC%B2%98%EB%A6%AC1.ipynb\" target=\"_parent\"><img src=\"https://colab.research.google.com/assets/colab-badge.svg\" alt=\"Open In Colab\"/></a>"
      ]
    },
    {
      "cell_type": "markdown",
      "metadata": {
        "id": "BQJq1geIkGlr"
      },
      "source": [
        "# 두 데이터 병합"
      ]
    },
    {
      "cell_type": "code",
      "metadata": {
        "id": "aYXk2M6ijNyD"
      },
      "source": [
        "import pandas as pd"
      ],
      "execution_count": null,
      "outputs": []
    },
    {
      "cell_type": "code",
      "metadata": {
        "id": "swThsNaOjDAy"
      },
      "source": [
        "# 기존 전처리한 파일과 \n",
        "ride_count = pd.read_csv('/content/drive/MyDrive/projects/3차-따릉이/data/ride_count.csv')\n",
        "weather = pd.read_csv('/content/drive/MyDrive/projects/3차-따릉이/data/weather.csv')"
      ],
      "execution_count": null,
      "outputs": []
    },
    {
      "cell_type": "markdown",
      "metadata": {
        "id": "22cgdCxhI56J"
      },
      "source": [
        "### 결측치 제거"
      ]
    },
    {
      "cell_type": "code",
      "metadata": {
        "id": "p-JMzkXCjgFL",
        "colab": {
          "base_uri": "https://localhost:8080/"
        },
        "outputId": "4012f1b6-c7a6-4c07-febc-41ad6592de56"
      },
      "source": [
        "ride_count.isna().sum()"
      ],
      "execution_count": null,
      "outputs": [
        {
          "output_type": "execute_result",
          "data": {
            "text/plain": [
              "Unnamed: 0    0\n",
              "자치구           0\n",
              "대여시간          0\n",
              "대여일자          0\n",
              "이용건수          0\n",
              "dtype: int64"
            ]
          },
          "metadata": {
            "tags": []
          },
          "execution_count": 3
        }
      ]
    },
    {
      "cell_type": "code",
      "metadata": {
        "colab": {
          "base_uri": "https://localhost:8080/",
          "height": 586
        },
        "id": "jMldGZnfGYXS",
        "outputId": "8f17daa6-5e9f-40b4-e9f9-3a823844a77d"
      },
      "source": [
        "weather"
      ],
      "execution_count": null,
      "outputs": [
        {
          "output_type": "execute_result",
          "data": {
            "text/html": [
              "<div>\n",
              "<style scoped>\n",
              "    .dataframe tbody tr th:only-of-type {\n",
              "        vertical-align: middle;\n",
              "    }\n",
              "\n",
              "    .dataframe tbody tr th {\n",
              "        vertical-align: top;\n",
              "    }\n",
              "\n",
              "    .dataframe thead th {\n",
              "        text-align: right;\n",
              "    }\n",
              "</style>\n",
              "<table border=\"1\" class=\"dataframe\">\n",
              "  <thead>\n",
              "    <tr style=\"text-align: right;\">\n",
              "      <th></th>\n",
              "      <th>Unnamed: 0</th>\n",
              "      <th>지점</th>\n",
              "      <th>지점명</th>\n",
              "      <th>일시</th>\n",
              "      <th>기온</th>\n",
              "      <th>풍속</th>\n",
              "      <th>강수량</th>\n",
              "      <th>습도</th>\n",
              "      <th>미세먼지농도</th>\n",
              "    </tr>\n",
              "  </thead>\n",
              "  <tbody>\n",
              "    <tr>\n",
              "      <th>0</th>\n",
              "      <td>8784</td>\n",
              "      <td>400</td>\n",
              "      <td>강남</td>\n",
              "      <td>2020-01-01 00:00</td>\n",
              "      <td>-5.1</td>\n",
              "      <td>1.0</td>\n",
              "      <td>0.0</td>\n",
              "      <td>41.5</td>\n",
              "      <td>27.0</td>\n",
              "    </tr>\n",
              "    <tr>\n",
              "      <th>1</th>\n",
              "      <td>8785</td>\n",
              "      <td>400</td>\n",
              "      <td>강남</td>\n",
              "      <td>2020-01-01 01:00</td>\n",
              "      <td>-5.0</td>\n",
              "      <td>0.8</td>\n",
              "      <td>0.0</td>\n",
              "      <td>43.4</td>\n",
              "      <td>20.0</td>\n",
              "    </tr>\n",
              "    <tr>\n",
              "      <th>2</th>\n",
              "      <td>8786</td>\n",
              "      <td>400</td>\n",
              "      <td>강남</td>\n",
              "      <td>2020-01-01 02:00</td>\n",
              "      <td>-4.8</td>\n",
              "      <td>1.3</td>\n",
              "      <td>0.0</td>\n",
              "      <td>47.0</td>\n",
              "      <td>21.0</td>\n",
              "    </tr>\n",
              "    <tr>\n",
              "      <th>3</th>\n",
              "      <td>8787</td>\n",
              "      <td>400</td>\n",
              "      <td>강남</td>\n",
              "      <td>2020-01-01 03:00</td>\n",
              "      <td>-4.9</td>\n",
              "      <td>0.7</td>\n",
              "      <td>0.0</td>\n",
              "      <td>50.3</td>\n",
              "      <td>31.0</td>\n",
              "    </tr>\n",
              "    <tr>\n",
              "      <th>4</th>\n",
              "      <td>8788</td>\n",
              "      <td>400</td>\n",
              "      <td>강남</td>\n",
              "      <td>2020-01-01 04:00</td>\n",
              "      <td>-4.7</td>\n",
              "      <td>1.4</td>\n",
              "      <td>0.0</td>\n",
              "      <td>55.2</td>\n",
              "      <td>30.0</td>\n",
              "    </tr>\n",
              "    <tr>\n",
              "      <th>...</th>\n",
              "      <td>...</td>\n",
              "      <td>...</td>\n",
              "      <td>...</td>\n",
              "      <td>...</td>\n",
              "      <td>...</td>\n",
              "      <td>...</td>\n",
              "      <td>...</td>\n",
              "      <td>...</td>\n",
              "      <td>...</td>\n",
              "    </tr>\n",
              "    <tr>\n",
              "      <th>219006</th>\n",
              "      <td>245329</td>\n",
              "      <td>889</td>\n",
              "      <td>동작</td>\n",
              "      <td>2020-12-31 19:00</td>\n",
              "      <td>-5.4</td>\n",
              "      <td>1.7</td>\n",
              "      <td>0.0</td>\n",
              "      <td>53.1</td>\n",
              "      <td>44.0</td>\n",
              "    </tr>\n",
              "    <tr>\n",
              "      <th>219007</th>\n",
              "      <td>245330</td>\n",
              "      <td>889</td>\n",
              "      <td>동작</td>\n",
              "      <td>2020-12-31 20:00</td>\n",
              "      <td>-6.5</td>\n",
              "      <td>1.5</td>\n",
              "      <td>0.0</td>\n",
              "      <td>55.1</td>\n",
              "      <td>35.0</td>\n",
              "    </tr>\n",
              "    <tr>\n",
              "      <th>219008</th>\n",
              "      <td>245331</td>\n",
              "      <td>889</td>\n",
              "      <td>동작</td>\n",
              "      <td>2020-12-31 21:00</td>\n",
              "      <td>-6.2</td>\n",
              "      <td>1.4</td>\n",
              "      <td>0.0</td>\n",
              "      <td>55.2</td>\n",
              "      <td>42.0</td>\n",
              "    </tr>\n",
              "    <tr>\n",
              "      <th>219009</th>\n",
              "      <td>245332</td>\n",
              "      <td>889</td>\n",
              "      <td>동작</td>\n",
              "      <td>2020-12-31 22:00</td>\n",
              "      <td>-5.6</td>\n",
              "      <td>1.6</td>\n",
              "      <td>0.0</td>\n",
              "      <td>57.4</td>\n",
              "      <td>42.0</td>\n",
              "    </tr>\n",
              "    <tr>\n",
              "      <th>219010</th>\n",
              "      <td>245333</td>\n",
              "      <td>889</td>\n",
              "      <td>동작</td>\n",
              "      <td>2020-12-31 23:00</td>\n",
              "      <td>-6.3</td>\n",
              "      <td>1.4</td>\n",
              "      <td>0.0</td>\n",
              "      <td>56.8</td>\n",
              "      <td>43.0</td>\n",
              "    </tr>\n",
              "  </tbody>\n",
              "</table>\n",
              "<p>219011 rows × 9 columns</p>\n",
              "</div>"
            ],
            "text/plain": [
              "        Unnamed: 0   지점 지점명                일시   기온   풍속  강수량    습도  미세먼지농도\n",
              "0             8784  400  강남  2020-01-01 00:00 -5.1  1.0  0.0  41.5    27.0\n",
              "1             8785  400  강남  2020-01-01 01:00 -5.0  0.8  0.0  43.4    20.0\n",
              "2             8786  400  강남  2020-01-01 02:00 -4.8  1.3  0.0  47.0    21.0\n",
              "3             8787  400  강남  2020-01-01 03:00 -4.9  0.7  0.0  50.3    31.0\n",
              "4             8788  400  강남  2020-01-01 04:00 -4.7  1.4  0.0  55.2    30.0\n",
              "...            ...  ...  ..               ...  ...  ...  ...   ...     ...\n",
              "219006      245329  889  동작  2020-12-31 19:00 -5.4  1.7  0.0  53.1    44.0\n",
              "219007      245330  889  동작  2020-12-31 20:00 -6.5  1.5  0.0  55.1    35.0\n",
              "219008      245331  889  동작  2020-12-31 21:00 -6.2  1.4  0.0  55.2    42.0\n",
              "219009      245332  889  동작  2020-12-31 22:00 -5.6  1.6  0.0  57.4    42.0\n",
              "219010      245333  889  동작  2020-12-31 23:00 -6.3  1.4  0.0  56.8    43.0\n",
              "\n",
              "[219011 rows x 9 columns]"
            ]
          },
          "metadata": {
            "tags": []
          },
          "execution_count": 4
        }
      ]
    },
    {
      "cell_type": "code",
      "metadata": {
        "id": "Y4_e5TchjkvX",
        "colab": {
          "base_uri": "https://localhost:8080/"
        },
        "outputId": "2889c36e-52d6-4573-fd51-3597aafc7c6e"
      },
      "source": [
        "weather.isna().sum()"
      ],
      "execution_count": null,
      "outputs": [
        {
          "output_type": "execute_result",
          "data": {
            "text/plain": [
              "Unnamed: 0        0\n",
              "지점                0\n",
              "지점명               0\n",
              "일시                0\n",
              "기온              594\n",
              "풍속              689\n",
              "강수량            1295\n",
              "습도            94772\n",
              "미세먼지농도            0\n",
              "dtype: int64"
            ]
          },
          "metadata": {
            "tags": []
          },
          "execution_count": 5
        }
      ]
    },
    {
      "cell_type": "code",
      "metadata": {
        "colab": {
          "base_uri": "https://localhost:8080/",
          "height": 402
        },
        "id": "GcznmQMJG4wO",
        "outputId": "d1a5b4cd-cb32-4d74-d558-c6fe9ea5b645"
      },
      "source": [
        "# null값이 많은 습도 열을 지우고, 강수량은 null값을 0으로 변환\n",
        "weather.drop(['습도', 'Unnamed: 0'], axis=1, inplace=True)\n",
        "weather['강수량'].fillna(0, inplace=True)\n",
        "weather"
      ],
      "execution_count": null,
      "outputs": [
        {
          "output_type": "execute_result",
          "data": {
            "text/html": [
              "<div>\n",
              "<style scoped>\n",
              "    .dataframe tbody tr th:only-of-type {\n",
              "        vertical-align: middle;\n",
              "    }\n",
              "\n",
              "    .dataframe tbody tr th {\n",
              "        vertical-align: top;\n",
              "    }\n",
              "\n",
              "    .dataframe thead th {\n",
              "        text-align: right;\n",
              "    }\n",
              "</style>\n",
              "<table border=\"1\" class=\"dataframe\">\n",
              "  <thead>\n",
              "    <tr style=\"text-align: right;\">\n",
              "      <th></th>\n",
              "      <th>지점</th>\n",
              "      <th>지점명</th>\n",
              "      <th>일시</th>\n",
              "      <th>기온</th>\n",
              "      <th>풍속</th>\n",
              "      <th>강수량</th>\n",
              "      <th>미세먼지농도</th>\n",
              "    </tr>\n",
              "  </thead>\n",
              "  <tbody>\n",
              "    <tr>\n",
              "      <th>0</th>\n",
              "      <td>400</td>\n",
              "      <td>강남</td>\n",
              "      <td>2020-01-01 00:00</td>\n",
              "      <td>-5.1</td>\n",
              "      <td>1.0</td>\n",
              "      <td>0.0</td>\n",
              "      <td>27.0</td>\n",
              "    </tr>\n",
              "    <tr>\n",
              "      <th>1</th>\n",
              "      <td>400</td>\n",
              "      <td>강남</td>\n",
              "      <td>2020-01-01 01:00</td>\n",
              "      <td>-5.0</td>\n",
              "      <td>0.8</td>\n",
              "      <td>0.0</td>\n",
              "      <td>20.0</td>\n",
              "    </tr>\n",
              "    <tr>\n",
              "      <th>2</th>\n",
              "      <td>400</td>\n",
              "      <td>강남</td>\n",
              "      <td>2020-01-01 02:00</td>\n",
              "      <td>-4.8</td>\n",
              "      <td>1.3</td>\n",
              "      <td>0.0</td>\n",
              "      <td>21.0</td>\n",
              "    </tr>\n",
              "    <tr>\n",
              "      <th>3</th>\n",
              "      <td>400</td>\n",
              "      <td>강남</td>\n",
              "      <td>2020-01-01 03:00</td>\n",
              "      <td>-4.9</td>\n",
              "      <td>0.7</td>\n",
              "      <td>0.0</td>\n",
              "      <td>31.0</td>\n",
              "    </tr>\n",
              "    <tr>\n",
              "      <th>4</th>\n",
              "      <td>400</td>\n",
              "      <td>강남</td>\n",
              "      <td>2020-01-01 04:00</td>\n",
              "      <td>-4.7</td>\n",
              "      <td>1.4</td>\n",
              "      <td>0.0</td>\n",
              "      <td>30.0</td>\n",
              "    </tr>\n",
              "    <tr>\n",
              "      <th>...</th>\n",
              "      <td>...</td>\n",
              "      <td>...</td>\n",
              "      <td>...</td>\n",
              "      <td>...</td>\n",
              "      <td>...</td>\n",
              "      <td>...</td>\n",
              "      <td>...</td>\n",
              "    </tr>\n",
              "    <tr>\n",
              "      <th>219006</th>\n",
              "      <td>889</td>\n",
              "      <td>동작</td>\n",
              "      <td>2020-12-31 19:00</td>\n",
              "      <td>-5.4</td>\n",
              "      <td>1.7</td>\n",
              "      <td>0.0</td>\n",
              "      <td>44.0</td>\n",
              "    </tr>\n",
              "    <tr>\n",
              "      <th>219007</th>\n",
              "      <td>889</td>\n",
              "      <td>동작</td>\n",
              "      <td>2020-12-31 20:00</td>\n",
              "      <td>-6.5</td>\n",
              "      <td>1.5</td>\n",
              "      <td>0.0</td>\n",
              "      <td>35.0</td>\n",
              "    </tr>\n",
              "    <tr>\n",
              "      <th>219008</th>\n",
              "      <td>889</td>\n",
              "      <td>동작</td>\n",
              "      <td>2020-12-31 21:00</td>\n",
              "      <td>-6.2</td>\n",
              "      <td>1.4</td>\n",
              "      <td>0.0</td>\n",
              "      <td>42.0</td>\n",
              "    </tr>\n",
              "    <tr>\n",
              "      <th>219009</th>\n",
              "      <td>889</td>\n",
              "      <td>동작</td>\n",
              "      <td>2020-12-31 22:00</td>\n",
              "      <td>-5.6</td>\n",
              "      <td>1.6</td>\n",
              "      <td>0.0</td>\n",
              "      <td>42.0</td>\n",
              "    </tr>\n",
              "    <tr>\n",
              "      <th>219010</th>\n",
              "      <td>889</td>\n",
              "      <td>동작</td>\n",
              "      <td>2020-12-31 23:00</td>\n",
              "      <td>-6.3</td>\n",
              "      <td>1.4</td>\n",
              "      <td>0.0</td>\n",
              "      <td>43.0</td>\n",
              "    </tr>\n",
              "  </tbody>\n",
              "</table>\n",
              "<p>219011 rows × 7 columns</p>\n",
              "</div>"
            ],
            "text/plain": [
              "         지점 지점명                일시   기온   풍속  강수량  미세먼지농도\n",
              "0       400  강남  2020-01-01 00:00 -5.1  1.0  0.0    27.0\n",
              "1       400  강남  2020-01-01 01:00 -5.0  0.8  0.0    20.0\n",
              "2       400  강남  2020-01-01 02:00 -4.8  1.3  0.0    21.0\n",
              "3       400  강남  2020-01-01 03:00 -4.9  0.7  0.0    31.0\n",
              "4       400  강남  2020-01-01 04:00 -4.7  1.4  0.0    30.0\n",
              "...     ...  ..               ...  ...  ...  ...     ...\n",
              "219006  889  동작  2020-12-31 19:00 -5.4  1.7  0.0    44.0\n",
              "219007  889  동작  2020-12-31 20:00 -6.5  1.5  0.0    35.0\n",
              "219008  889  동작  2020-12-31 21:00 -6.2  1.4  0.0    42.0\n",
              "219009  889  동작  2020-12-31 22:00 -5.6  1.6  0.0    42.0\n",
              "219010  889  동작  2020-12-31 23:00 -6.3  1.4  0.0    43.0\n",
              "\n",
              "[219011 rows x 7 columns]"
            ]
          },
          "metadata": {
            "tags": []
          },
          "execution_count": 6
        }
      ]
    },
    {
      "cell_type": "code",
      "metadata": {
        "colab": {
          "base_uri": "https://localhost:8080/"
        },
        "id": "04lw9KCIWx7r",
        "outputId": "d1dedd37-ff62-4f41-ba99-f53062af7e0f"
      },
      "source": [
        "ride_count.info()"
      ],
      "execution_count": null,
      "outputs": [
        {
          "output_type": "stream",
          "text": [
            "<class 'pandas.core.frame.DataFrame'>\n",
            "RangeIndex: 217969 entries, 0 to 217968\n",
            "Data columns (total 5 columns):\n",
            " #   Column      Non-Null Count   Dtype \n",
            "---  ------      --------------   ----- \n",
            " 0   Unnamed: 0  217969 non-null  int64 \n",
            " 1   자치구         217969 non-null  object\n",
            " 2   대여시간        217969 non-null  int64 \n",
            " 3   대여일자        217969 non-null  object\n",
            " 4   이용건수        217969 non-null  int64 \n",
            "dtypes: int64(3), object(2)\n",
            "memory usage: 8.3+ MB\n"
          ],
          "name": "stdout"
        }
      ]
    },
    {
      "cell_type": "code",
      "metadata": {
        "colab": {
          "base_uri": "https://localhost:8080/"
        },
        "id": "rVQ1npLkWtPA",
        "outputId": "82a9d908-37a5-41d8-baa8-1198d776c318"
      },
      "source": [
        "weather.info()"
      ],
      "execution_count": null,
      "outputs": [
        {
          "output_type": "stream",
          "text": [
            "<class 'pandas.core.frame.DataFrame'>\n",
            "RangeIndex: 219011 entries, 0 to 219010\n",
            "Data columns (total 7 columns):\n",
            " #   Column  Non-Null Count   Dtype  \n",
            "---  ------  --------------   -----  \n",
            " 0   지점      219011 non-null  int64  \n",
            " 1   지점명     219011 non-null  object \n",
            " 2   일시      219011 non-null  object \n",
            " 3   기온      218417 non-null  float64\n",
            " 4   풍속      218322 non-null  float64\n",
            " 5   강수량     219011 non-null  float64\n",
            " 6   미세먼지농도  219011 non-null  float64\n",
            "dtypes: float64(4), int64(1), object(2)\n",
            "memory usage: 11.7+ MB\n"
          ],
          "name": "stdout"
        }
      ]
    },
    {
      "cell_type": "code",
      "metadata": {
        "id": "3mM2MIz9HiYX"
      },
      "source": [
        "# 기온, 풍속은 상대적으로 null 비율이 적기 때문에 해당 행 제거\n",
        "weather.dropna(subset=['기온', '풍속'], inplace=True)"
      ],
      "execution_count": null,
      "outputs": []
    },
    {
      "cell_type": "code",
      "metadata": {
        "colab": {
          "base_uri": "https://localhost:8080/"
        },
        "id": "8bX_dUPWIfMs",
        "outputId": "f2adf29c-63fe-4916-aeb2-fa0338c9bb47"
      },
      "source": [
        "weather.isna().sum()"
      ],
      "execution_count": null,
      "outputs": [
        {
          "output_type": "execute_result",
          "data": {
            "text/plain": [
              "지점        0\n",
              "지점명       0\n",
              "일시        0\n",
              "기온        0\n",
              "풍속        0\n",
              "강수량       0\n",
              "미세먼지농도    0\n",
              "dtype: int64"
            ]
          },
          "metadata": {
            "tags": []
          },
          "execution_count": 10
        }
      ]
    },
    {
      "cell_type": "markdown",
      "metadata": {
        "id": "8MWye_V6IfVu"
      },
      "source": [
        "### 형식 동일하게 설정"
      ]
    },
    {
      "cell_type": "code",
      "metadata": {
        "id": "fC2m_SrQRiv3"
      },
      "source": [
        "# 두 데이터프래임의 열 이름을 동일하게 만듦\n",
        "ride_count['자치구'] = ride_count['자치구']\n",
        "ride_count.rename(columns={'대여시간': '시각', '대여일자': '일자'}, inplace=True)"
      ],
      "execution_count": null,
      "outputs": []
    },
    {
      "cell_type": "code",
      "metadata": {
        "id": "QNUObsJGPN05"
      },
      "source": [
        "weather['일자'] = weather['일시'].apply(lambda x: x.split()[0])\n",
        "weather['시각'] = weather['일시'].apply(lambda x: int(x.split()[1].split(\":\")[0]))\n",
        "weather['지점명'] = weather['지점명'].str.strip()\n",
        "weather['지점명'] = weather['지점명'].apply(lambda x: x + \"구\" if not x.endswith('구') else x)\n",
        "weather.rename(columns={'지점명': '자치구'}, inplace=True)"
      ],
      "execution_count": null,
      "outputs": []
    },
    {
      "cell_type": "code",
      "metadata": {
        "colab": {
          "base_uri": "https://localhost:8080/"
        },
        "id": "e0iDv741-o8M",
        "outputId": "4681fefd-476c-48db-99da-b20db0efc167"
      },
      "source": [
        "ride_count['자치구'].unique(), weather['자치구'].unique()"
      ],
      "execution_count": null,
      "outputs": [
        {
          "output_type": "execute_result",
          "data": {
            "text/plain": [
              "(array(['강남구', '강동구', '강북구', '강서구', '관악구', '광진구', '구로구', '금천구', '노원구',\n",
              "        '도봉구', '동대문구', '동작구', '마포구', '서대문구', '서초구', '성동구', '성북구', '송파구',\n",
              "        '양천구', '영등포구', '용산구', '은평구', '종로구', '중구', '중랑구'], dtype=object),\n",
              " array(['강남구', '서초구', '강동구', '송파구', '강서구', '양천구', '도봉구', '노원구', '동대문구',\n",
              "        '중랑구', '종로구', '마포구', '서대문구', '광진구', '성북구', '용산구', '은평구', '금천구',\n",
              "        '중구', '성동구', '구로구', '강북구', '관악구', '영등포구', '동작구'], dtype=object))"
            ]
          },
          "metadata": {
            "tags": []
          },
          "execution_count": 13
        }
      ]
    },
    {
      "cell_type": "code",
      "metadata": {
        "colab": {
          "base_uri": "https://localhost:8080/",
          "height": 402
        },
        "id": "guOE5RefQtQ8",
        "outputId": "e0dbe052-8451-4be9-835d-fc11cc2a6be8"
      },
      "source": [
        "data = weather[['자치구', '일자', '시각', '기온', '풍속', '강수량', '미세먼지농도']].merge(\n",
        "    ride_count[['자치구', '일자', '시각', '이용건수']],\n",
        "    on=['자치구', '일자', '시각'],\n",
        "    how='inner'\n",
        ")\n",
        "data.to_csv('/content/drive/MyDrive/projects/3차-따릉이/data/data_raw.csv', index = None)\n",
        "data"
      ],
      "execution_count": null,
      "outputs": [
        {
          "output_type": "execute_result",
          "data": {
            "text/html": [
              "<div>\n",
              "<style scoped>\n",
              "    .dataframe tbody tr th:only-of-type {\n",
              "        vertical-align: middle;\n",
              "    }\n",
              "\n",
              "    .dataframe tbody tr th {\n",
              "        vertical-align: top;\n",
              "    }\n",
              "\n",
              "    .dataframe thead th {\n",
              "        text-align: right;\n",
              "    }\n",
              "</style>\n",
              "<table border=\"1\" class=\"dataframe\">\n",
              "  <thead>\n",
              "    <tr style=\"text-align: right;\">\n",
              "      <th></th>\n",
              "      <th>자치구</th>\n",
              "      <th>일자</th>\n",
              "      <th>시각</th>\n",
              "      <th>기온</th>\n",
              "      <th>풍속</th>\n",
              "      <th>강수량</th>\n",
              "      <th>미세먼지농도</th>\n",
              "      <th>이용건수</th>\n",
              "    </tr>\n",
              "  </thead>\n",
              "  <tbody>\n",
              "    <tr>\n",
              "      <th>0</th>\n",
              "      <td>강남구</td>\n",
              "      <td>2020-01-01</td>\n",
              "      <td>0</td>\n",
              "      <td>-5.1</td>\n",
              "      <td>1.0</td>\n",
              "      <td>0.0</td>\n",
              "      <td>27.0</td>\n",
              "      <td>24</td>\n",
              "    </tr>\n",
              "    <tr>\n",
              "      <th>1</th>\n",
              "      <td>강남구</td>\n",
              "      <td>2020-01-01</td>\n",
              "      <td>1</td>\n",
              "      <td>-5.0</td>\n",
              "      <td>0.8</td>\n",
              "      <td>0.0</td>\n",
              "      <td>20.0</td>\n",
              "      <td>29</td>\n",
              "    </tr>\n",
              "    <tr>\n",
              "      <th>2</th>\n",
              "      <td>강남구</td>\n",
              "      <td>2020-01-01</td>\n",
              "      <td>2</td>\n",
              "      <td>-4.8</td>\n",
              "      <td>1.3</td>\n",
              "      <td>0.0</td>\n",
              "      <td>21.0</td>\n",
              "      <td>28</td>\n",
              "    </tr>\n",
              "    <tr>\n",
              "      <th>3</th>\n",
              "      <td>강남구</td>\n",
              "      <td>2020-01-01</td>\n",
              "      <td>3</td>\n",
              "      <td>-4.9</td>\n",
              "      <td>0.7</td>\n",
              "      <td>0.0</td>\n",
              "      <td>31.0</td>\n",
              "      <td>21</td>\n",
              "    </tr>\n",
              "    <tr>\n",
              "      <th>4</th>\n",
              "      <td>강남구</td>\n",
              "      <td>2020-01-01</td>\n",
              "      <td>4</td>\n",
              "      <td>-4.7</td>\n",
              "      <td>1.4</td>\n",
              "      <td>0.0</td>\n",
              "      <td>30.0</td>\n",
              "      <td>14</td>\n",
              "    </tr>\n",
              "    <tr>\n",
              "      <th>...</th>\n",
              "      <td>...</td>\n",
              "      <td>...</td>\n",
              "      <td>...</td>\n",
              "      <td>...</td>\n",
              "      <td>...</td>\n",
              "      <td>...</td>\n",
              "      <td>...</td>\n",
              "      <td>...</td>\n",
              "    </tr>\n",
              "    <tr>\n",
              "      <th>216253</th>\n",
              "      <td>동작구</td>\n",
              "      <td>2020-12-31</td>\n",
              "      <td>19</td>\n",
              "      <td>-5.4</td>\n",
              "      <td>1.7</td>\n",
              "      <td>0.0</td>\n",
              "      <td>44.0</td>\n",
              "      <td>33</td>\n",
              "    </tr>\n",
              "    <tr>\n",
              "      <th>216254</th>\n",
              "      <td>동작구</td>\n",
              "      <td>2020-12-31</td>\n",
              "      <td>20</td>\n",
              "      <td>-6.5</td>\n",
              "      <td>1.5</td>\n",
              "      <td>0.0</td>\n",
              "      <td>35.0</td>\n",
              "      <td>30</td>\n",
              "    </tr>\n",
              "    <tr>\n",
              "      <th>216255</th>\n",
              "      <td>동작구</td>\n",
              "      <td>2020-12-31</td>\n",
              "      <td>21</td>\n",
              "      <td>-6.2</td>\n",
              "      <td>1.4</td>\n",
              "      <td>0.0</td>\n",
              "      <td>42.0</td>\n",
              "      <td>24</td>\n",
              "    </tr>\n",
              "    <tr>\n",
              "      <th>216256</th>\n",
              "      <td>동작구</td>\n",
              "      <td>2020-12-31</td>\n",
              "      <td>22</td>\n",
              "      <td>-5.6</td>\n",
              "      <td>1.6</td>\n",
              "      <td>0.0</td>\n",
              "      <td>42.0</td>\n",
              "      <td>7</td>\n",
              "    </tr>\n",
              "    <tr>\n",
              "      <th>216257</th>\n",
              "      <td>동작구</td>\n",
              "      <td>2020-12-31</td>\n",
              "      <td>23</td>\n",
              "      <td>-6.3</td>\n",
              "      <td>1.4</td>\n",
              "      <td>0.0</td>\n",
              "      <td>43.0</td>\n",
              "      <td>2</td>\n",
              "    </tr>\n",
              "  </tbody>\n",
              "</table>\n",
              "<p>216258 rows × 8 columns</p>\n",
              "</div>"
            ],
            "text/plain": [
              "        자치구          일자  시각   기온   풍속  강수량  미세먼지농도  이용건수\n",
              "0       강남구  2020-01-01   0 -5.1  1.0  0.0    27.0    24\n",
              "1       강남구  2020-01-01   1 -5.0  0.8  0.0    20.0    29\n",
              "2       강남구  2020-01-01   2 -4.8  1.3  0.0    21.0    28\n",
              "3       강남구  2020-01-01   3 -4.9  0.7  0.0    31.0    21\n",
              "4       강남구  2020-01-01   4 -4.7  1.4  0.0    30.0    14\n",
              "...     ...         ...  ..  ...  ...  ...     ...   ...\n",
              "216253  동작구  2020-12-31  19 -5.4  1.7  0.0    44.0    33\n",
              "216254  동작구  2020-12-31  20 -6.5  1.5  0.0    35.0    30\n",
              "216255  동작구  2020-12-31  21 -6.2  1.4  0.0    42.0    24\n",
              "216256  동작구  2020-12-31  22 -5.6  1.6  0.0    42.0     7\n",
              "216257  동작구  2020-12-31  23 -6.3  1.4  0.0    43.0     2\n",
              "\n",
              "[216258 rows x 8 columns]"
            ]
          },
          "metadata": {
            "tags": []
          },
          "execution_count": 14
        }
      ]
    },
    {
      "cell_type": "code",
      "metadata": {
        "id": "yHP_r-SO9apW"
      },
      "source": [
        "from sklearn.preprocessing import LabelEncoder"
      ],
      "execution_count": null,
      "outputs": []
    },
    {
      "cell_type": "code",
      "metadata": {
        "colab": {
          "base_uri": "https://localhost:8080/"
        },
        "id": "AntnZ4_A9apX",
        "outputId": "51da39c1-2103-43c5-8ebc-850ccbeab630"
      },
      "source": [
        "# 자치구 라벨화\n",
        "le = LabelEncoder()\n",
        "encoded = le.fit_transform(data['자치구'])\n",
        "le.classes_"
      ],
      "execution_count": null,
      "outputs": [
        {
          "output_type": "execute_result",
          "data": {
            "text/plain": [
              "array(['강남구', '강동구', '강북구', '강서구', '관악구', '광진구', '구로구', '금천구', '노원구',\n",
              "       '도봉구', '동대문구', '동작구', '마포구', '서대문구', '서초구', '성동구', '성북구', '송파구',\n",
              "       '양천구', '영등포구', '용산구', '은평구', '종로구', '중구', '중랑구'], dtype=object)"
            ]
          },
          "metadata": {
            "tags": []
          },
          "execution_count": 16
        }
      ]
    },
    {
      "cell_type": "code",
      "metadata": {
        "id": "vIbVYLxP9few"
      },
      "source": [
        "data['자치구'] = encoded"
      ],
      "execution_count": null,
      "outputs": []
    },
    {
      "cell_type": "code",
      "metadata": {
        "colab": {
          "base_uri": "https://localhost:8080/",
          "height": 402
        },
        "id": "BmuZzEFT9snp",
        "outputId": "bcce6f10-b3d9-4a58-bae4-ff75ffd3d5d2"
      },
      "source": [
        "from datetime import datetime\n",
        "# 요일 추가: 월 ~ 일 -> 0 ~ 6\n",
        "data['요일'] = data['일자'].apply(lambda x: datetime.strptime(x, '%Y-%m-%d').weekday())\n",
        "data['달'] = data['일자'].apply(lambda x: x.split('-')[1])\n",
        "data.drop('일자', axis=1, inplace=True)\n",
        "data"
      ],
      "execution_count": null,
      "outputs": [
        {
          "output_type": "execute_result",
          "data": {
            "text/html": [
              "<div>\n",
              "<style scoped>\n",
              "    .dataframe tbody tr th:only-of-type {\n",
              "        vertical-align: middle;\n",
              "    }\n",
              "\n",
              "    .dataframe tbody tr th {\n",
              "        vertical-align: top;\n",
              "    }\n",
              "\n",
              "    .dataframe thead th {\n",
              "        text-align: right;\n",
              "    }\n",
              "</style>\n",
              "<table border=\"1\" class=\"dataframe\">\n",
              "  <thead>\n",
              "    <tr style=\"text-align: right;\">\n",
              "      <th></th>\n",
              "      <th>자치구</th>\n",
              "      <th>시각</th>\n",
              "      <th>기온</th>\n",
              "      <th>풍속</th>\n",
              "      <th>강수량</th>\n",
              "      <th>미세먼지농도</th>\n",
              "      <th>이용건수</th>\n",
              "      <th>요일</th>\n",
              "      <th>달</th>\n",
              "    </tr>\n",
              "  </thead>\n",
              "  <tbody>\n",
              "    <tr>\n",
              "      <th>0</th>\n",
              "      <td>0</td>\n",
              "      <td>0</td>\n",
              "      <td>-5.1</td>\n",
              "      <td>1.0</td>\n",
              "      <td>0.0</td>\n",
              "      <td>27.0</td>\n",
              "      <td>24</td>\n",
              "      <td>2</td>\n",
              "      <td>01</td>\n",
              "    </tr>\n",
              "    <tr>\n",
              "      <th>1</th>\n",
              "      <td>0</td>\n",
              "      <td>1</td>\n",
              "      <td>-5.0</td>\n",
              "      <td>0.8</td>\n",
              "      <td>0.0</td>\n",
              "      <td>20.0</td>\n",
              "      <td>29</td>\n",
              "      <td>2</td>\n",
              "      <td>01</td>\n",
              "    </tr>\n",
              "    <tr>\n",
              "      <th>2</th>\n",
              "      <td>0</td>\n",
              "      <td>2</td>\n",
              "      <td>-4.8</td>\n",
              "      <td>1.3</td>\n",
              "      <td>0.0</td>\n",
              "      <td>21.0</td>\n",
              "      <td>28</td>\n",
              "      <td>2</td>\n",
              "      <td>01</td>\n",
              "    </tr>\n",
              "    <tr>\n",
              "      <th>3</th>\n",
              "      <td>0</td>\n",
              "      <td>3</td>\n",
              "      <td>-4.9</td>\n",
              "      <td>0.7</td>\n",
              "      <td>0.0</td>\n",
              "      <td>31.0</td>\n",
              "      <td>21</td>\n",
              "      <td>2</td>\n",
              "      <td>01</td>\n",
              "    </tr>\n",
              "    <tr>\n",
              "      <th>4</th>\n",
              "      <td>0</td>\n",
              "      <td>4</td>\n",
              "      <td>-4.7</td>\n",
              "      <td>1.4</td>\n",
              "      <td>0.0</td>\n",
              "      <td>30.0</td>\n",
              "      <td>14</td>\n",
              "      <td>2</td>\n",
              "      <td>01</td>\n",
              "    </tr>\n",
              "    <tr>\n",
              "      <th>...</th>\n",
              "      <td>...</td>\n",
              "      <td>...</td>\n",
              "      <td>...</td>\n",
              "      <td>...</td>\n",
              "      <td>...</td>\n",
              "      <td>...</td>\n",
              "      <td>...</td>\n",
              "      <td>...</td>\n",
              "      <td>...</td>\n",
              "    </tr>\n",
              "    <tr>\n",
              "      <th>216253</th>\n",
              "      <td>11</td>\n",
              "      <td>19</td>\n",
              "      <td>-5.4</td>\n",
              "      <td>1.7</td>\n",
              "      <td>0.0</td>\n",
              "      <td>44.0</td>\n",
              "      <td>33</td>\n",
              "      <td>3</td>\n",
              "      <td>12</td>\n",
              "    </tr>\n",
              "    <tr>\n",
              "      <th>216254</th>\n",
              "      <td>11</td>\n",
              "      <td>20</td>\n",
              "      <td>-6.5</td>\n",
              "      <td>1.5</td>\n",
              "      <td>0.0</td>\n",
              "      <td>35.0</td>\n",
              "      <td>30</td>\n",
              "      <td>3</td>\n",
              "      <td>12</td>\n",
              "    </tr>\n",
              "    <tr>\n",
              "      <th>216255</th>\n",
              "      <td>11</td>\n",
              "      <td>21</td>\n",
              "      <td>-6.2</td>\n",
              "      <td>1.4</td>\n",
              "      <td>0.0</td>\n",
              "      <td>42.0</td>\n",
              "      <td>24</td>\n",
              "      <td>3</td>\n",
              "      <td>12</td>\n",
              "    </tr>\n",
              "    <tr>\n",
              "      <th>216256</th>\n",
              "      <td>11</td>\n",
              "      <td>22</td>\n",
              "      <td>-5.6</td>\n",
              "      <td>1.6</td>\n",
              "      <td>0.0</td>\n",
              "      <td>42.0</td>\n",
              "      <td>7</td>\n",
              "      <td>3</td>\n",
              "      <td>12</td>\n",
              "    </tr>\n",
              "    <tr>\n",
              "      <th>216257</th>\n",
              "      <td>11</td>\n",
              "      <td>23</td>\n",
              "      <td>-6.3</td>\n",
              "      <td>1.4</td>\n",
              "      <td>0.0</td>\n",
              "      <td>43.0</td>\n",
              "      <td>2</td>\n",
              "      <td>3</td>\n",
              "      <td>12</td>\n",
              "    </tr>\n",
              "  </tbody>\n",
              "</table>\n",
              "<p>216258 rows × 9 columns</p>\n",
              "</div>"
            ],
            "text/plain": [
              "        자치구  시각   기온   풍속  강수량  미세먼지농도  이용건수  요일   달\n",
              "0         0   0 -5.1  1.0  0.0    27.0    24   2  01\n",
              "1         0   1 -5.0  0.8  0.0    20.0    29   2  01\n",
              "2         0   2 -4.8  1.3  0.0    21.0    28   2  01\n",
              "3         0   3 -4.9  0.7  0.0    31.0    21   2  01\n",
              "4         0   4 -4.7  1.4  0.0    30.0    14   2  01\n",
              "...     ...  ..  ...  ...  ...     ...   ...  ..  ..\n",
              "216253   11  19 -5.4  1.7  0.0    44.0    33   3  12\n",
              "216254   11  20 -6.5  1.5  0.0    35.0    30   3  12\n",
              "216255   11  21 -6.2  1.4  0.0    42.0    24   3  12\n",
              "216256   11  22 -5.6  1.6  0.0    42.0     7   3  12\n",
              "216257   11  23 -6.3  1.4  0.0    43.0     2   3  12\n",
              "\n",
              "[216258 rows x 9 columns]"
            ]
          },
          "metadata": {
            "tags": []
          },
          "execution_count": 18
        }
      ]
    },
    {
      "cell_type": "code",
      "metadata": {
        "id": "p2rwWKO2bFjL"
      },
      "source": [
        "data.to_csv('/content/drive/MyDrive/projects/3차-따릉이/data/data.csv', index = None)"
      ],
      "execution_count": null,
      "outputs": []
    }
  ]
}